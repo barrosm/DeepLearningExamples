{
  "nbformat": 4,
  "nbformat_minor": 0,
  "metadata": {
    "colab": {
      "name": "Word Representation (Parte 1).ipynb",
      "version": "0.3.2",
      "provenance": [],
      "collapsed_sections": []
    },
    "kernelspec": {
      "name": "python3",
      "display_name": "Python 3"
    },
    "accelerator": "GPU"
  },
  "cells": [
    {
      "metadata": {
        "id": "SQlCey2SjAKR",
        "colab_type": "text"
      },
      "cell_type": "markdown",
      "source": [
        "<table style=\"width:100%\">\n",
        "  <tr>\n",
        "    <td><center style=\"font-size:500%;\">Representação Distribuida de Palavras (Parte 1)</center></td>\n",
        "    <td><img src=\"https://logodownload.org/wp-content/uploads/2015/02/puc-rio-logo.gif\" width=\"100\"/></td> \n",
        "  </tr>    \n",
        "</table>\n",
        "\n",
        "Msc. Cristian Muñoz V."
      ]
    },
    {
      "metadata": {
        "id": "4px4rMC57O4R",
        "colab_type": "code",
        "colab": {}
      },
      "cell_type": "code",
      "source": [
        "import numpy as np\n",
        "import gensim.downloader as api\n",
        "from sklearn.metrics.pairwise import cosine_similarity\n",
        "\n",
        "word_vectors = api.load('glove-wiki-gigaword-50')\n",
        "\n",
        "word2vec = lambda w: word_vectors.word_vec(w.lower())\n",
        "\n",
        "similarity = lambda x,y:cosine_similarity(x[np.newaxis,:],y[np.newaxis,:]).squeeze()"
      ],
      "execution_count": 0,
      "outputs": []
    },
    {
      "metadata": {
        "id": "GEHKU6DbALbZ",
        "colab_type": "code",
        "colab": {}
      },
      "cell_type": "code",
      "source": [
        "word_a, word_b = \"father\", \"mother\"\n",
        "#word_a, word_b = \"ball\", \"crocodile\"\n",
        "\n",
        "vec_a = word2vec(word_a)\n",
        "vec_b = word2vec(word_b)\n",
        "\n",
        "result = similarity(vec_a, vec_b).squeeze()\n",
        "print(\"cosine_similarity( {} , {} ): {:.4f}\".format(word_a,word_b,result))"
      ],
      "execution_count": 0,
      "outputs": []
    },
    {
      "metadata": {
        "id": "O5sfCGcLDGvq",
        "colab_type": "code",
        "colab": {}
      },
      "cell_type": "code",
      "source": [
        "pos_a, neg_a = \"france\" , \"paris\"\n",
        "pos_a_v = word2vec(pos_a)\n",
        "neg_a_v = word2vec(neg_a)\n",
        "\n",
        "pos_b, neg_b = \"italy\", \"rome\"\n",
        "pos_b_v = word2vec(pos_b)\n",
        "neg_b_v = word2vec(neg_b)\n",
        "\n",
        "result = similarity(pos_a_v - neg_a_v, pos_b_v - neg_b_v)\n",
        "print(\"cosine_similarity( {} - {} , {} - {} ): {:.4f}\".format(pos_a, neg_a, pos_b, neg_b, result))\n",
        "\n",
        "result = similarity(pos_a_v - neg_a_v, neg_b_v - pos_b_v)\n",
        "print(\"cosine_similarity( {} - {} , {} - {} ): {:.4f}\".format(pos_a, neg_a, neg_b, pos_b, result))"
      ],
      "execution_count": 0,
      "outputs": []
    },
    {
      "metadata": {
        "id": "w0e4dQ1gMk-I",
        "colab_type": "code",
        "colab": {}
      },
      "cell_type": "code",
      "source": [
        "def complete_analogy(pos_a, neg_a, pos_b):\n",
        "    \n",
        "    pos_a_v, neg_a_v, pos_b_v = word2vec(pos_a), word2vec(neg_a), word2vec(pos_b)\n",
        "    d = pos_a_v - neg_a_v\n",
        "    \n",
        "    max_cosine_sim = -100              \n",
        "    best_word = None                   \n",
        "\n",
        "    for neg_b in word_vectors.vocab:        \n",
        "        \n",
        "        if neg_b in [pos_a, neg_a, pos_b] :\n",
        "            continue\n",
        "            \n",
        "        neg_b_v = word2vec(neg_b)\n",
        "        cosine_sim = similarity(d , pos_b_v - neg_b_v)\n",
        "        \n",
        "        if cosine_sim > max_cosine_sim:\n",
        "            max_cosine_sim = cosine_sim\n",
        "            best_word = neg_b\n",
        "            \n",
        "    return best_word"
      ],
      "execution_count": 0,
      "outputs": []
    },
    {
      "metadata": {
        "id": "fQ3eprmIGV2x",
        "colab_type": "code",
        "colab": {}
      },
      "cell_type": "code",
      "source": [
        "analogies_to_try = [('italy', 'italian', 'brazil'), \n",
        "                 ('india', 'delhi', 'japan'), \n",
        "                 ('man', 'woman', 'boy'), \n",
        "                 ('small', 'smaller', 'large')]\n",
        "\n",
        "\n",
        "for triad in triads_to_try:\n",
        "    print ('{} -> {} :: {} -> {}'.format( *triad, complete_analogy(*triad)))"
      ],
      "execution_count": 0,
      "outputs": []
    },
    {
      "metadata": {
        "id": "RrVzfwWXOWWR",
        "colab_type": "code",
        "colab": {}
      },
      "cell_type": "code",
      "source": [
        "g = word2vec('woman') - word2vec('man')\n",
        "print(g)"
      ],
      "execution_count": 0,
      "outputs": []
    },
    {
      "metadata": {
        "id": "PjiXp7qKCZX1",
        "colab_type": "code",
        "colab": {}
      },
      "cell_type": "code",
      "source": [
        "print ('Lista de nomes e sua similaridade com o vetor g:')\n",
        "\n",
        "name_list = ['john', 'marie', 'sophie', 'ronaldo', 'priya', 'rahul', 'danielle', 'reza', 'katy', 'yasmin']\n",
        "\n",
        "for word in name_list:\n",
        "    print(\"{}:{}\".format(word, similarity(word2vec(word), g)))"
      ],
      "execution_count": 0,
      "outputs": []
    },
    {
      "metadata": {
        "id": "MRNP3_VbTpNn",
        "colab_type": "code",
        "colab": {}
      },
      "cell_type": "code",
      "source": [
        "print('Outras palavras e suas similaridades:')\n",
        "word_list = ['lipstick', 'guns', 'science', 'arts', 'literature', 'warrior','doctor', 'tree', 'receptionist', \n",
        "             'technology',  'fashion', 'teacher', 'engineer', 'pilot', 'computer', 'singer']\n",
        "for word in word_list:\n",
        "    print(\"{}:{}\".format(word, similarity(word2vec(word), g)))"
      ],
      "execution_count": 0,
      "outputs": []
    }
  ]
}