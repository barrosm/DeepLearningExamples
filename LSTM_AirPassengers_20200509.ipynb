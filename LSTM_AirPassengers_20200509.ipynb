{
  "nbformat": 4,
  "nbformat_minor": 0,
  "metadata": {
    "colab": {
      "name": "LSTM_AirPassengers_20200509.ipynb",
      "provenance": [],
      "collapsed_sections": [],
      "include_colab_link": true
    },
    "kernelspec": {
      "name": "python3",
      "display_name": "Python 3"
    },
    "accelerator": "GPU"
  },
  "cells": [
    {
      "cell_type": "markdown",
      "metadata": {
        "id": "view-in-github",
        "colab_type": "text"
      },
      "source": [
        "<a href=\"https://colab.research.google.com/github/barrosm/DeepLearningExamples/blob/master/LSTM_AirPassengers_20200509.ipynb\" target=\"_parent\"><img src=\"https://colab.research.google.com/assets/colab-badge.svg\" alt=\"Open In Colab\"/></a>"
      ]
    },
    {
      "cell_type": "markdown",
      "metadata": {
        "id": "bgc8yb4c2W0g",
        "colab_type": "text"
      },
      "source": [
        "# Recurrent Neural Network - LSTM\n"
      ]
    },
    {
      "cell_type": "markdown",
      "metadata": {
        "id": "FaPOKBrF-N67",
        "colab_type": "text"
      },
      "source": [
        "## SALVAR CONTEÚDO NO DRIVE PESSOAL!!!!! BAIXAR ESTA PASTA E FAZER UPLOAD PARA O SEU DRIVE"
      ]
    },
    {
      "cell_type": "markdown",
      "metadata": {
        "id": "ERDahf1Z7WdC",
        "colab_type": "text"
      },
      "source": [
        "## Mount do drive pessoal"
      ]
    },
    {
      "cell_type": "code",
      "metadata": {
        "id": "vftUNEh37ZQ4",
        "colab_type": "code",
        "colab": {
          "base_uri": "https://localhost:8080/",
          "height": 122
        },
        "outputId": "4d6509b6-5538-4a0c-8ecf-dac2baa82ed0"
      },
      "source": [
        "from google.colab import drive\n",
        "drive.mount('/content/drive')"
      ],
      "execution_count": 2,
      "outputs": [
        {
          "output_type": "stream",
          "text": [
            "Go to this URL in a browser: https://accounts.google.com/o/oauth2/auth?client_id=947318989803-6bn6qk8qdgf4n4g3pfee6491hc0brc4i.apps.googleusercontent.com&redirect_uri=urn%3aietf%3awg%3aoauth%3a2.0%3aoob&response_type=code&scope=email%20https%3a%2f%2fwww.googleapis.com%2fauth%2fdocs.test%20https%3a%2f%2fwww.googleapis.com%2fauth%2fdrive%20https%3a%2f%2fwww.googleapis.com%2fauth%2fdrive.photos.readonly%20https%3a%2f%2fwww.googleapis.com%2fauth%2fpeopleapi.readonly\n",
            "\n",
            "Enter your authorization code:\n",
            "··········\n",
            "Mounted at /content/drive\n"
          ],
          "name": "stdout"
        }
      ]
    },
    {
      "cell_type": "code",
      "metadata": {
        "id": "jGMNX8-n7eSg",
        "colab_type": "code",
        "colab": {}
      },
      "source": [
        "import os\n",
        "workdir_path = '/content/drive/My Drive/BIMaster_2019/Redes_Neurais/Airline/'\n",
        "#/Redes_Neurais/' #/Airline'  # Inserir o local da pasta onde estão os arquivos de entrada (treino e teste)\n",
        "os.chdir(workdir_path)"
      ],
      "execution_count": 0,
      "outputs": []
    },
    {
      "cell_type": "code",
      "metadata": {
        "id": "MwYfkELw-Fjb",
        "colab_type": "code",
        "colab": {
          "base_uri": "https://localhost:8080/",
          "height": 34
        },
        "outputId": "cfaaf1cb-4aad-4a7a-e71e-bcd264c429f0"
      },
      "source": [
        "#Verificar se a pasta mapeada contem os arquivos abaixo\n",
        "!ls"
      ],
      "execution_count": 4,
      "outputs": [
        {
          "output_type": "stream",
          "text": [
            "RedesRecorrentesAirPassengers.ipynb  test.csv  train.csv\n"
          ],
          "name": "stdout"
        }
      ]
    },
    {
      "cell_type": "markdown",
      "metadata": {
        "id": "aew2N81e35Uc",
        "colab_type": "text"
      },
      "source": [
        "## Parte 1 - Preprocessamento de Dados"
      ]
    },
    {
      "cell_type": "markdown",
      "metadata": {
        "id": "Z0vulSxH2hHu",
        "colab_type": "text"
      },
      "source": [
        "### Importar as bibliotecas"
      ]
    },
    {
      "cell_type": "code",
      "metadata": {
        "id": "p2SjiqlE2O08",
        "colab_type": "code",
        "colab": {
          "base_uri": "https://localhost:8080/",
          "height": 34
        },
        "outputId": "05afdc40-14be-4da3-eda2-1aa6f26fb3dc"
      },
      "source": [
        "%tensorflow_version 1.x\n",
        "import numpy as np\n",
        "import matplotlib.pyplot as plt\n",
        "import pandas as pd\n",
        "import os"
      ],
      "execution_count": 5,
      "outputs": [
        {
          "output_type": "stream",
          "text": [
            "TensorFlow 1.x selected.\n"
          ],
          "name": "stdout"
        }
      ]
    },
    {
      "cell_type": "markdown",
      "metadata": {
        "id": "36Q16Udt2l3W",
        "colab_type": "text"
      },
      "source": [
        "### Importar a base de dados"
      ]
    },
    {
      "cell_type": "code",
      "metadata": {
        "id": "1ivhnWxD2eEG",
        "colab_type": "code",
        "colab": {}
      },
      "source": [
        "dataset_train = pd.read_csv('train.csv')\n",
        "training_set = dataset_train.iloc[:, 1:2].values #só coluna da série em si"
      ],
      "execution_count": 0,
      "outputs": []
    },
    {
      "cell_type": "markdown",
      "metadata": {
        "id": "kd39T1zK2ql1",
        "colab_type": "text"
      },
      "source": [
        "### gráfico da série temporal"
      ]
    },
    {
      "cell_type": "code",
      "metadata": {
        "id": "vMsAFuya2rhr",
        "colab_type": "code",
        "colab": {
          "base_uri": "https://localhost:8080/",
          "height": 295
        },
        "outputId": "812d8cba-6713-4e88-a671-3ffda8379dd5"
      },
      "source": [
        "plt.plot(training_set)\n",
        "plt.xlabel(\"tempo\")\n",
        "plt.ylabel(\"Número de passageiros x10^3\")\n",
        "plt.title(\"Passageiros de avião\")\n",
        "plt.show()"
      ],
      "execution_count": 7,
      "outputs": [
        {
          "output_type": "display_data",
          "data": {
            "image/png": "[encoded data removed]",
            "text/plain": [
              "<Figure size 432x288 with 1 Axes>"
            ]
          },
          "metadata": {
            "tags": [],
            "needs_background": "light"
          }
        }
      ]
    },
    {
      "cell_type": "markdown",
      "metadata": {
        "id": "7p1F7HdB2uJU",
        "colab_type": "text"
      },
      "source": [
        "### Normalização"
      ]
    },
    {
      "cell_type": "code",
      "metadata": {
        "id": "foeHRZr-2u-L",
        "colab_type": "code",
        "colab": {}
      },
      "source": [
        "from sklearn.preprocessing import MinMaxScaler\n",
        "sc = MinMaxScaler(feature_range = (0, 1))\n",
        "training_set_scaled = sc.fit_transform(training_set)"
      ],
      "execution_count": 0,
      "outputs": []
    },
    {
      "cell_type": "code",
      "metadata": {
        "id": "p8rgPAMU47Al",
        "colab_type": "code",
        "colab": {
          "base_uri": "https://localhost:8080/",
          "height": 102
        },
        "outputId": "de6888d8-3ab4-4614-a938-b6947e72a7da"
      },
      "source": [
        "training_set_scaled[0:5]"
      ],
      "execution_count": 16,
      "outputs": [
        {
          "output_type": "execute_result",
          "data": {
            "text/plain": [
              "array([[0.01995012],\n",
              "       [0.03491272],\n",
              "       [0.06982544],\n",
              "       [0.06234414],\n",
              "       [0.04239401]])"
            ]
          },
          "metadata": {
            "tags": []
          },
          "execution_count": 16
        }
      ]
    },
    {
      "cell_type": "markdown",
      "metadata": {
        "id": "uQP8Q7MI21Y9",
        "colab_type": "text"
      },
      "source": [
        "### Criar a estrutura de dados com janela 10 e output 1"
      ]
    },
    {
      "cell_type": "markdown",
      "metadata": {
        "id": "k-UtMaUt6U05",
        "colab_type": "text"
      },
      "source": [
        "## Mas pode ser interessante usar window = 12, por causa da sazonalidade, ou , por exemplo usar t-1, t-2, t-3, t-12, t-24"
      ]
    },
    {
      "cell_type": "code",
      "metadata": {
        "id": "C6Ge9ql922cb",
        "colab_type": "code",
        "colab": {}
      },
      "source": [
        "window = 10\n",
        "trainSize = len(training_set_scaled)\n",
        "X_train = []\n",
        "y_train = []\n",
        "for i in range(window, trainSize):    # vai de 10 até 120. Tem que começar no tamanho da janela, ppor que antes disso não se consegue prever nada\n",
        "    X_train.append(training_set_scaled[i-window:i, 0])  # aqui só existe a coluna 0, pega os 10 valores anteriores a i, EXCLUSIVE i\n",
        "    y_train.append(training_set_scaled[i, 0])  # é o que está sendo previsto, a observação no instante i\n",
        "X_train, y_train = np.array(X_train), np.array(y_train)"
      ],
      "execution_count": 0,
      "outputs": []
    },
    {
      "cell_type": "markdown",
      "metadata": {
        "id": "LPBC2LoG24dU",
        "colab_type": "text"
      },
      "source": [
        "### Reshaping"
      ]
    },
    {
      "cell_type": "markdown",
      "metadata": {
        "id": "Ehe2PQoR8tDF",
        "colab_type": "text"
      },
      "source": [
        "A LSTM espera que se entre com 3 dimensões como input. A 3a dimensão que foi colocada aí, com o reshape não serve para nada, só para adicionar uma dimensão"
      ]
    },
    {
      "cell_type": "code",
      "metadata": {
        "id": "oGwgQUDbdmnS",
        "colab_type": "code",
        "colab": {
          "base_uri": "https://localhost:8080/",
          "height": 34
        },
        "outputId": "3d257b8c-521d-4d42-fea0-44d73ebb8baa"
      },
      "source": [
        "X_train.shape"
      ],
      "execution_count": 33,
      "outputs": [
        {
          "output_type": "execute_result",
          "data": {
            "text/plain": [
              "(110, 10)"
            ]
          },
          "metadata": {
            "tags": []
          },
          "execution_count": 33
        }
      ]
    },
    {
      "cell_type": "code",
      "metadata": {
        "id": "b9ZfLlGH25fr",
        "colab_type": "code",
        "colab": {}
      },
      "source": [
        "# O reshape 3D é feito aqui\n",
        "X_train = np.reshape(X_train, (X_train.shape[0], X_train.shape[1], 1))"
      ],
      "execution_count": 0,
      "outputs": []
    },
    {
      "cell_type": "code",
      "metadata": {
        "id": "RxU0axM9diHO",
        "colab_type": "code",
        "colab": {
          "base_uri": "https://localhost:8080/",
          "height": 34
        },
        "outputId": "1d68979e-ea48-470a-9b23-b5ec9ff7e2eb"
      },
      "source": [
        "X_train.shape"
      ],
      "execution_count": 35,
      "outputs": [
        {
          "output_type": "execute_result",
          "data": {
            "text/plain": [
              "(110, 10, 1)"
            ]
          },
          "metadata": {
            "tags": []
          },
          "execution_count": 35
        }
      ]
    },
    {
      "cell_type": "code",
      "metadata": {
        "id": "p7sf2msi50XS",
        "colab_type": "code",
        "colab": {
          "base_uri": "https://localhost:8080/",
          "height": 561
        },
        "outputId": "29101d69-5028-4682-e35c-dc7b1a0ddab3"
      },
      "source": [
        "X_train[0:3]"
      ],
      "execution_count": 23,
      "outputs": [
        {
          "output_type": "execute_result",
          "data": {
            "text/plain": [
              "array([[[0.01995012],\n",
              "        [0.03491272],\n",
              "        [0.06982544],\n",
              "        [0.06234414],\n",
              "        [0.04239401],\n",
              "        [0.07730673],\n",
              "        [0.10972569],\n",
              "        [0.10972569],\n",
              "        [0.0798005 ],\n",
              "        [0.03740648]],\n",
              "\n",
              "       [[0.03491272],\n",
              "        [0.06982544],\n",
              "        [0.06234414],\n",
              "        [0.04239401],\n",
              "        [0.07730673],\n",
              "        [0.10972569],\n",
              "        [0.10972569],\n",
              "        [0.0798005 ],\n",
              "        [0.03740648],\n",
              "        [0.        ]],\n",
              "\n",
              "       [[0.06982544],\n",
              "        [0.06234414],\n",
              "        [0.04239401],\n",
              "        [0.07730673],\n",
              "        [0.10972569],\n",
              "        [0.10972569],\n",
              "        [0.0798005 ],\n",
              "        [0.03740648],\n",
              "        [0.        ],\n",
              "        [0.03491272]]])"
            ]
          },
          "metadata": {
            "tags": []
          },
          "execution_count": 23
        }
      ]
    },
    {
      "cell_type": "markdown",
      "metadata": {
        "id": "fZhjp7Tf282b",
        "colab_type": "text"
      },
      "source": [
        "## Parte 2 - Construção da RNN"
      ]
    },
    {
      "cell_type": "markdown",
      "metadata": {
        "id": "RDkAxmMl3EXr",
        "colab_type": "text"
      },
      "source": [
        "### Bibliotecas necessárias"
      ]
    },
    {
      "cell_type": "code",
      "metadata": {
        "id": "Ifhh9yUo3DpT",
        "colab_type": "code",
        "colab": {}
      },
      "source": [
        "from keras.models import Sequential\n",
        "from keras.layers import Dense\n",
        "from keras.layers import LSTM\n",
        "from keras.layers import Dropout"
      ],
      "execution_count": 0,
      "outputs": []
    },
    {
      "cell_type": "markdown",
      "metadata": {
        "id": "kordpD0_3H7b",
        "colab_type": "text"
      },
      "source": [
        "### Construção da Rede completa"
      ]
    },
    {
      "cell_type": "code",
      "metadata": {
        "id": "EskB17uo3Iso",
        "colab_type": "code",
        "colab": {
          "base_uri": "https://localhost:8080/",
          "height": 391
        },
        "outputId": "26229602-74df-4070-81af-ab99f3e36a4f"
      },
      "source": [
        "# Inicializar a RNN\n",
        "regressor = Sequential()  # criei uma rede que é uma sequencia de camadas que não tem nada\n",
        "\n",
        "# Aqui foram colocadas 3 camadas LSTM, mas talvez só uma seja mais que suficiente\n",
        "\n",
        "# Adicionar a primeira camada LSTM e Dropout \n",
        "regressor.add(LSTM(units = 100, return_sequences = True, input_shape = (X_train.shape[1], 1)))\n",
        "# input_shape é 10 x 1, cada uma das 110 linhas tem este shape\n",
        "# poderia ter definido, para ficar ainda mais geral: input_shape = \n",
        "# = (X_train.shape[1], X_train.shape[2])\n",
        "regressor.add(Dropout(0.2))  # 20% dos neuronios vão ser aleatoriamente desconsiderados\n",
        "\n",
        "# NAS PROXIMAS CAMADAS ESTOU REDUZINDO O NUMERO DE NEURONIOS, A PROXIMA TEM 80 NEURONIOS AO\n",
        "# INVES DE 100\n",
        "\n",
        "# O ULTIMO MODULOA DE LSTM VAI SER CONECTADO A UMA CAMADA DENSA\n",
        "\n",
        " \n",
        "# Adicionar a segunda camada LSTM e Dropout\n",
        "regressor.add(LSTM(units = 80, return_sequences = True))\n",
        "regressor.add(Dropout(0.2))\n",
        " \n",
        "# Adicionar a terceira camada LSTM e Dropout\n",
        "regressor.add(LSTM(units = 50))\n",
        "regressor.add(Dropout(0.2))\n",
        " \n",
        "#===============================================================================\n",
        "# A CAMADA DE SAÍDA É DENSA\n",
        "# camada de saída\n",
        "# POR PADRÃO, A FUNÇÃO DE ATIVAÇÃO, SE NÃO ESPECIFICADA, É LINEAR, a(x) = x\n",
        "# ISSO FAZ SENTIDO AQUI POIS NÃO LIMITA O VALOR DA SAÍDA\n",
        "# SE USÁSSEMOS UMA SIGMOIDE, POR EXEMPLO, ESTARÍAMOS RESTRITOS A (0,1)\n",
        "# E COMO OS DADOS DE ENTRADA ESTÃO NORMALIZADOS ENTRE  0 E 1, ISSO FARIA \n",
        "# COM QUE MEU OUTPUT FICASSE RESTRITO AO RANGE DE VALORES DO CONJUNTO DE TREINAMENTO\n",
        "#===============================================================================\n",
        "regressor.add(Dense(units = 1))\n",
        " \n",
        "# Após definir a camada de saída, compilar a rede \n",
        "# Compilar a rede\n",
        "regressor.compile(optimizer = 'adam', loss = 'mean_squared_error')\n",
        "\n",
        "# Visualizar a rede\n",
        "regressor.summary()"
      ],
      "execution_count": 39,
      "outputs": [
        {
          "output_type": "stream",
          "text": [
            "Model: \"sequential_2\"\n",
            "_________________________________________________________________\n",
            "Layer (type)                 Output Shape              Param #   \n",
            "=================================================================\n",
            "lstm_4 (LSTM)                (None, 10, 100)           40800     \n",
            "_________________________________________________________________\n",
            "dropout_4 (Dropout)          (None, 10, 100)           0         \n",
            "_________________________________________________________________\n",
            "lstm_5 (LSTM)                (None, 10, 80)            57920     \n",
            "_________________________________________________________________\n",
            "dropout_5 (Dropout)          (None, 10, 80)            0         \n",
            "_________________________________________________________________\n",
            "lstm_6 (LSTM)                (None, 50)                26200     \n",
            "_________________________________________________________________\n",
            "dropout_6 (Dropout)          (None, 50)                0         \n",
            "_________________________________________________________________\n",
            "dense_2 (Dense)              (None, 1)                 51        \n",
            "=================================================================\n",
            "Total params: 124,971\n",
            "Trainable params: 124,971\n",
            "Non-trainable params: 0\n",
            "_________________________________________________________________\n"
          ],
          "name": "stdout"
        }
      ]
    },
    {
      "cell_type": "code",
      "metadata": {
        "id": "d50RYkLbBQyD",
        "colab_type": "code",
        "colab": {
          "base_uri": "https://localhost:8080/",
          "height": 758
        },
        "outputId": "c02ace8c-9199-4b36-b53e-b853566b22d7"
      },
      "source": [
        "from keras import utils\n",
        "utils.plot_model(regressor)"
      ],
      "execution_count": 71,
      "outputs": [
        {
          "output_type": "execute_result",
          "data": {
            "image/png": "[encoded data removed]",
            "text/plain": [
              "<IPython.core.display.Image object>"
            ]
          },
          "metadata": {
            "tags": []
          },
          "execution_count": 71
        }
      ]
    },
    {
      "cell_type": "code",
      "metadata": {
        "id": "xhdwJPbQBQhS",
        "colab_type": "code",
        "colab": {}
      },
      "source": [
        ""
      ],
      "execution_count": 0,
      "outputs": []
    },
    {
      "cell_type": "markdown",
      "metadata": {
        "id": "5j1w28g83iSR",
        "colab_type": "text"
      },
      "source": [
        "### Treinamento"
      ]
    },
    {
      "cell_type": "code",
      "metadata": {
        "id": "xWKAuKyp3jXv",
        "colab_type": "code",
        "colab": {
          "base_uri": "https://localhost:8080/",
          "height": 1000
        },
        "outputId": "82a5f33d-df96-4060-e6c1-981d43589c17"
      },
      "source": [
        "history = regressor.fit(X_train, y_train, epochs = 250, batch_size = 32) # a cada 32 registros (dos 110) vai atualizar os pesos?"
      ],
      "execution_count": 40,
      "outputs": [
        {
          "output_type": "stream",
          "text": [
            "WARNING:tensorflow:From /usr/local/lib/python3.6/dist-packages/keras/backend/tensorflow_backend.py:422: The name tf.global_variables is deprecated. Please use tf.compat.v1.global_variables instead.\n",
            "\n",
            "Epoch 1/250\n",
            "110/110 [==============================] - 3s 23ms/step - loss: 0.1501\n",
            "Epoch 2/250\n",
            "110/110 [==============================] - 0s 1ms/step - loss: 0.0451\n",
            "Epoch 3/250\n",
            "110/110 [==============================] - 0s 1ms/step - loss: 0.0386\n",
            "Epoch 4/250\n",
            "110/110 [==============================] - 0s 1ms/step - loss: 0.0181\n",
            "Epoch 5/250\n",
            "110/110 [==============================] - 0s 1ms/step - loss: 0.0290\n",
            "Epoch 6/250\n",
            "110/110 [==============================] - 0s 1ms/step - loss: 0.0215\n",
            "Epoch 7/250\n",
            "110/110 [==============================] - 0s 1ms/step - loss: 0.0203\n",
            "Epoch 8/250\n",
            "110/110 [==============================] - 0s 1ms/step - loss: 0.0212\n",
            "Epoch 9/250\n",
            "110/110 [==============================] - 0s 1ms/step - loss: 0.0166\n",
            "Epoch 10/250\n",
            "110/110 [==============================] - 0s 1ms/step - loss: 0.0185\n",
            "Epoch 11/250\n",
            "110/110 [==============================] - 0s 1ms/step - loss: 0.0198\n",
            "Epoch 12/250\n",
            "110/110 [==============================] - 0s 1ms/step - loss: 0.0198\n",
            "Epoch 13/250\n",
            "110/110 [==============================] - 0s 1ms/step - loss: 0.0192\n",
            "Epoch 14/250\n",
            "110/110 [==============================] - 0s 1ms/step - loss: 0.0195\n",
            "Epoch 15/250\n",
            "110/110 [==============================] - 0s 1ms/step - loss: 0.0165\n",
            "Epoch 16/250\n",
            "110/110 [==============================] - 0s 1ms/step - loss: 0.0180\n",
            "Epoch 17/250\n",
            "110/110 [==============================] - 0s 1ms/step - loss: 0.0174\n",
            "Epoch 18/250\n",
            "110/110 [==============================] - 0s 1ms/step - loss: 0.0179\n",
            "Epoch 19/250\n",
            "110/110 [==============================] - 0s 1ms/step - loss: 0.0157\n",
            "Epoch 20/250\n",
            "110/110 [==============================] - 0s 1ms/step - loss: 0.0180\n",
            "Epoch 21/250\n",
            "110/110 [==============================] - 0s 1ms/step - loss: 0.0166\n",
            "Epoch 22/250\n",
            "110/110 [==============================] - 0s 1ms/step - loss: 0.0175\n",
            "Epoch 23/250\n",
            "110/110 [==============================] - 0s 1ms/step - loss: 0.0166\n",
            "Epoch 24/250\n",
            "110/110 [==============================] - 0s 1ms/step - loss: 0.0166\n",
            "Epoch 25/250\n",
            "110/110 [==============================] - 0s 1ms/step - loss: 0.0169\n",
            "Epoch 26/250\n",
            "110/110 [==============================] - 0s 1ms/step - loss: 0.0176\n",
            "Epoch 27/250\n",
            "110/110 [==============================] - 0s 1ms/step - loss: 0.0166\n",
            "Epoch 28/250\n",
            "110/110 [==============================] - 0s 1ms/step - loss: 0.0149\n",
            "Epoch 29/250\n",
            "110/110 [==============================] - 0s 1ms/step - loss: 0.0158\n",
            "Epoch 30/250\n",
            "110/110 [==============================] - 0s 1ms/step - loss: 0.0159\n",
            "Epoch 31/250\n",
            "110/110 [==============================] - 0s 1ms/step - loss: 0.0148\n",
            "Epoch 32/250\n",
            "110/110 [==============================] - 0s 1ms/step - loss: 0.0166\n",
            "Epoch 33/250\n",
            "110/110 [==============================] - 0s 1ms/step - loss: 0.0171\n",
            "Epoch 34/250\n",
            "110/110 [==============================] - 0s 1ms/step - loss: 0.0140\n",
            "Epoch 35/250\n",
            "110/110 [==============================] - 0s 1ms/step - loss: 0.0170\n",
            "Epoch 36/250\n",
            "110/110 [==============================] - 0s 1ms/step - loss: 0.0151\n",
            "Epoch 37/250\n",
            "110/110 [==============================] - 0s 1ms/step - loss: 0.0178\n",
            "Epoch 38/250\n",
            "110/110 [==============================] - 0s 1ms/step - loss: 0.0159\n",
            "Epoch 39/250\n",
            "110/110 [==============================] - 0s 1ms/step - loss: 0.0157\n",
            "Epoch 40/250\n",
            "110/110 [==============================] - 0s 1ms/step - loss: 0.0185\n",
            "Epoch 41/250\n",
            "110/110 [==============================] - 0s 1ms/step - loss: 0.0165\n",
            "Epoch 42/250\n",
            "110/110 [==============================] - 0s 1ms/step - loss: 0.0172\n",
            "Epoch 43/250\n",
            "110/110 [==============================] - 0s 1ms/step - loss: 0.0148\n",
            "Epoch 44/250\n",
            "110/110 [==============================] - 0s 1ms/step - loss: 0.0159\n",
            "Epoch 45/250\n",
            "110/110 [==============================] - 0s 1ms/step - loss: 0.0168\n",
            "Epoch 46/250\n",
            "110/110 [==============================] - 0s 1ms/step - loss: 0.0166\n",
            "Epoch 47/250\n",
            "110/110 [==============================] - 0s 1ms/step - loss: 0.0164\n",
            "Epoch 48/250\n",
            "110/110 [==============================] - 0s 1ms/step - loss: 0.0174\n",
            "Epoch 49/250\n",
            "110/110 [==============================] - 0s 1ms/step - loss: 0.0162\n",
            "Epoch 50/250\n",
            "110/110 [==============================] - 0s 1ms/step - loss: 0.0148\n",
            "Epoch 51/250\n",
            "110/110 [==============================] - 0s 1ms/step - loss: 0.0152\n",
            "Epoch 52/250\n",
            "110/110 [==============================] - 0s 1ms/step - loss: 0.0158\n",
            "Epoch 53/250\n",
            "110/110 [==============================] - 0s 1ms/step - loss: 0.0161\n",
            "Epoch 54/250\n",
            "110/110 [==============================] - 0s 1ms/step - loss: 0.0152\n",
            "Epoch 55/250\n",
            "110/110 [==============================] - 0s 1ms/step - loss: 0.0170\n",
            "Epoch 56/250\n",
            "110/110 [==============================] - 0s 1ms/step - loss: 0.0171\n",
            "Epoch 57/250\n",
            "110/110 [==============================] - 0s 1ms/step - loss: 0.0154\n",
            "Epoch 58/250\n",
            "110/110 [==============================] - 0s 1ms/step - loss: 0.0153\n",
            "Epoch 59/250\n",
            "110/110 [==============================] - 0s 1ms/step - loss: 0.0147\n",
            "Epoch 60/250\n",
            "110/110 [==============================] - 0s 1ms/step - loss: 0.0155\n",
            "Epoch 61/250\n",
            "110/110 [==============================] - 0s 1ms/step - loss: 0.0135\n",
            "Epoch 62/250\n",
            "110/110 [==============================] - 0s 1ms/step - loss: 0.0153\n",
            "Epoch 63/250\n",
            "110/110 [==============================] - 0s 1ms/step - loss: 0.0173\n",
            "Epoch 64/250\n",
            "110/110 [==============================] - 0s 1ms/step - loss: 0.0153\n",
            "Epoch 65/250\n",
            "110/110 [==============================] - 0s 1ms/step - loss: 0.0158\n",
            "Epoch 66/250\n",
            "110/110 [==============================] - 0s 1ms/step - loss: 0.0150\n",
            "Epoch 67/250\n",
            "110/110 [==============================] - 0s 1ms/step - loss: 0.0155\n",
            "Epoch 68/250\n",
            "110/110 [==============================] - 0s 1ms/step - loss: 0.0136\n",
            "Epoch 69/250\n",
            "110/110 [==============================] - 0s 1ms/step - loss: 0.0160\n",
            "Epoch 70/250\n",
            "110/110 [==============================] - 0s 1ms/step - loss: 0.0147\n",
            "Epoch 71/250\n",
            "110/110 [==============================] - 0s 1ms/step - loss: 0.0161\n",
            "Epoch 72/250\n",
            "110/110 [==============================] - 0s 1ms/step - loss: 0.0148\n",
            "Epoch 73/250\n",
            "110/110 [==============================] - 0s 1ms/step - loss: 0.0128\n",
            "Epoch 74/250\n",
            "110/110 [==============================] - 0s 1ms/step - loss: 0.0152\n",
            "Epoch 75/250\n",
            "110/110 [==============================] - 0s 1ms/step - loss: 0.0162\n",
            "Epoch 76/250\n",
            "110/110 [==============================] - 0s 1ms/step - loss: 0.0175\n",
            "Epoch 77/250\n",
            "110/110 [==============================] - 0s 1ms/step - loss: 0.0157\n",
            "Epoch 78/250\n",
            "110/110 [==============================] - 0s 1ms/step - loss: 0.0165\n",
            "Epoch 79/250\n",
            "110/110 [==============================] - 0s 1ms/step - loss: 0.0157\n",
            "Epoch 80/250\n",
            "110/110 [==============================] - 0s 1ms/step - loss: 0.0164\n",
            "Epoch 81/250\n",
            "110/110 [==============================] - 0s 1ms/step - loss: 0.0164\n",
            "Epoch 82/250\n",
            "110/110 [==============================] - 0s 1ms/step - loss: 0.0171\n",
            "Epoch 83/250\n",
            "110/110 [==============================] - 0s 1ms/step - loss: 0.0148\n",
            "Epoch 84/250\n",
            "110/110 [==============================] - 0s 1ms/step - loss: 0.0150\n",
            "Epoch 85/250\n",
            "110/110 [==============================] - 0s 1ms/step - loss: 0.0148\n",
            "Epoch 86/250\n",
            "110/110 [==============================] - 0s 1ms/step - loss: 0.0156\n",
            "Epoch 87/250\n",
            "110/110 [==============================] - 0s 1ms/step - loss: 0.0164\n",
            "Epoch 88/250\n",
            "110/110 [==============================] - 0s 1ms/step - loss: 0.0139\n",
            "Epoch 89/250\n",
            "110/110 [==============================] - 0s 1ms/step - loss: 0.0137\n",
            "Epoch 90/250\n",
            "110/110 [==============================] - 0s 1ms/step - loss: 0.0157\n",
            "Epoch 91/250\n",
            "110/110 [==============================] - 0s 1ms/step - loss: 0.0152\n",
            "Epoch 92/250\n",
            "110/110 [==============================] - 0s 1ms/step - loss: 0.0150\n",
            "Epoch 93/250\n",
            "110/110 [==============================] - 0s 1ms/step - loss: 0.0144\n",
            "Epoch 94/250\n",
            "110/110 [==============================] - 0s 1ms/step - loss: 0.0176\n",
            "Epoch 95/250\n",
            "110/110 [==============================] - 0s 1ms/step - loss: 0.0177\n",
            "Epoch 96/250\n",
            "110/110 [==============================] - 0s 1ms/step - loss: 0.0158\n",
            "Epoch 97/250\n",
            "110/110 [==============================] - 0s 1ms/step - loss: 0.0155\n",
            "Epoch 98/250\n",
            "110/110 [==============================] - 0s 1ms/step - loss: 0.0145\n",
            "Epoch 99/250\n",
            "110/110 [==============================] - 0s 1ms/step - loss: 0.0146\n",
            "Epoch 100/250\n",
            "110/110 [==============================] - 0s 1ms/step - loss: 0.0149\n",
            "Epoch 101/250\n",
            "110/110 [==============================] - 0s 1ms/step - loss: 0.0144\n",
            "Epoch 102/250\n",
            "110/110 [==============================] - 0s 1ms/step - loss: 0.0138\n",
            "Epoch 103/250\n",
            "110/110 [==============================] - 0s 1ms/step - loss: 0.0149\n",
            "Epoch 104/250\n",
            "110/110 [==============================] - 0s 1ms/step - loss: 0.0144\n",
            "Epoch 105/250\n",
            "110/110 [==============================] - 0s 1ms/step - loss: 0.0157\n",
            "Epoch 106/250\n",
            "110/110 [==============================] - 0s 1ms/step - loss: 0.0165\n",
            "Epoch 107/250\n",
            "110/110 [==============================] - 0s 1ms/step - loss: 0.0159\n",
            "Epoch 108/250\n",
            "110/110 [==============================] - 0s 1ms/step - loss: 0.0171\n",
            "Epoch 109/250\n",
            "110/110 [==============================] - 0s 1ms/step - loss: 0.0169\n",
            "Epoch 110/250\n",
            "110/110 [==============================] - 0s 1ms/step - loss: 0.0164\n",
            "Epoch 111/250\n",
            "110/110 [==============================] - 0s 1ms/step - loss: 0.0149\n",
            "Epoch 112/250\n",
            "110/110 [==============================] - 0s 1ms/step - loss: 0.0155\n",
            "Epoch 113/250\n",
            "110/110 [==============================] - 0s 1ms/step - loss: 0.0155\n",
            "Epoch 114/250\n",
            "110/110 [==============================] - 0s 1ms/step - loss: 0.0142\n",
            "Epoch 115/250\n",
            "110/110 [==============================] - 0s 1ms/step - loss: 0.0139\n",
            "Epoch 116/250\n",
            "110/110 [==============================] - 0s 1ms/step - loss: 0.0145\n",
            "Epoch 117/250\n",
            "110/110 [==============================] - 0s 1ms/step - loss: 0.0156\n",
            "Epoch 118/250\n",
            "110/110 [==============================] - 0s 1ms/step - loss: 0.0141\n",
            "Epoch 119/250\n",
            "110/110 [==============================] - 0s 1ms/step - loss: 0.0141\n",
            "Epoch 120/250\n",
            "110/110 [==============================] - 0s 1ms/step - loss: 0.0134\n",
            "Epoch 121/250\n",
            "110/110 [==============================] - 0s 1ms/step - loss: 0.0121\n",
            "Epoch 122/250\n",
            "110/110 [==============================] - 0s 1ms/step - loss: 0.0147\n",
            "Epoch 123/250\n",
            "110/110 [==============================] - 0s 1ms/step - loss: 0.0146\n",
            "Epoch 124/250\n",
            "110/110 [==============================] - 0s 1ms/step - loss: 0.0137\n",
            "Epoch 125/250\n",
            "110/110 [==============================] - 0s 1ms/step - loss: 0.0153\n",
            "Epoch 126/250\n",
            "110/110 [==============================] - 0s 1ms/step - loss: 0.0130\n",
            "Epoch 127/250\n",
            "110/110 [==============================] - 0s 1ms/step - loss: 0.0151\n",
            "Epoch 128/250\n",
            "110/110 [==============================] - 0s 1ms/step - loss: 0.0145\n",
            "Epoch 129/250\n",
            "110/110 [==============================] - 0s 1ms/step - loss: 0.0138\n",
            "Epoch 130/250\n",
            "110/110 [==============================] - 0s 1ms/step - loss: 0.0147\n",
            "Epoch 131/250\n",
            "110/110 [==============================] - 0s 1ms/step - loss: 0.0131\n",
            "Epoch 132/250\n",
            "110/110 [==============================] - 0s 1ms/step - loss: 0.0153\n",
            "Epoch 133/250\n",
            "110/110 [==============================] - 0s 1ms/step - loss: 0.0130\n",
            "Epoch 134/250\n",
            "110/110 [==============================] - 0s 1ms/step - loss: 0.0139\n",
            "Epoch 135/250\n",
            "110/110 [==============================] - 0s 1ms/step - loss: 0.0139\n",
            "Epoch 136/250\n",
            "110/110 [==============================] - 0s 1ms/step - loss: 0.0152\n",
            "Epoch 137/250\n",
            "110/110 [==============================] - 0s 1ms/step - loss: 0.0132\n",
            "Epoch 138/250\n",
            "110/110 [==============================] - 0s 1ms/step - loss: 0.0131\n",
            "Epoch 139/250\n",
            "110/110 [==============================] - 0s 1ms/step - loss: 0.0127\n",
            "Epoch 140/250\n",
            "110/110 [==============================] - 0s 1ms/step - loss: 0.0113\n",
            "Epoch 141/250\n",
            "110/110 [==============================] - 0s 1ms/step - loss: 0.0142\n",
            "Epoch 142/250\n",
            "110/110 [==============================] - 0s 1ms/step - loss: 0.0147\n",
            "Epoch 143/250\n",
            "110/110 [==============================] - 0s 1ms/step - loss: 0.0142\n",
            "Epoch 144/250\n",
            "110/110 [==============================] - 0s 1ms/step - loss: 0.0114\n",
            "Epoch 145/250\n",
            "110/110 [==============================] - 0s 1ms/step - loss: 0.0131\n",
            "Epoch 146/250\n",
            "110/110 [==============================] - 0s 1ms/step - loss: 0.0133\n",
            "Epoch 147/250\n",
            "110/110 [==============================] - 0s 1ms/step - loss: 0.0116\n",
            "Epoch 148/250\n",
            "110/110 [==============================] - 0s 1ms/step - loss: 0.0142\n",
            "Epoch 149/250\n",
            "110/110 [==============================] - 0s 1ms/step - loss: 0.0143\n",
            "Epoch 150/250\n",
            "110/110 [==============================] - 0s 1ms/step - loss: 0.0146\n",
            "Epoch 151/250\n",
            "110/110 [==============================] - 0s 1ms/step - loss: 0.0122\n",
            "Epoch 152/250\n",
            "110/110 [==============================] - 0s 1ms/step - loss: 0.0151\n",
            "Epoch 153/250\n",
            "110/110 [==============================] - 0s 1ms/step - loss: 0.0126\n",
            "Epoch 154/250\n",
            "110/110 [==============================] - 0s 1ms/step - loss: 0.0110\n",
            "Epoch 155/250\n",
            "110/110 [==============================] - 0s 1ms/step - loss: 0.0127\n",
            "Epoch 156/250\n",
            "110/110 [==============================] - 0s 1ms/step - loss: 0.0114\n",
            "Epoch 157/250\n",
            "110/110 [==============================] - 0s 1ms/step - loss: 0.0105\n",
            "Epoch 158/250\n",
            "110/110 [==============================] - 0s 1ms/step - loss: 0.0113\n",
            "Epoch 159/250\n",
            "110/110 [==============================] - 0s 1ms/step - loss: 0.0106\n",
            "Epoch 160/250\n",
            "110/110 [==============================] - 0s 1ms/step - loss: 0.0102\n",
            "Epoch 161/250\n",
            "110/110 [==============================] - 0s 1ms/step - loss: 0.0123\n",
            "Epoch 162/250\n",
            "110/110 [==============================] - 0s 1ms/step - loss: 0.0114\n",
            "Epoch 163/250\n",
            "110/110 [==============================] - 0s 1ms/step - loss: 0.0104\n",
            "Epoch 164/250\n",
            "110/110 [==============================] - 0s 1ms/step - loss: 0.0104\n",
            "Epoch 165/250\n",
            "110/110 [==============================] - 0s 1ms/step - loss: 0.0110\n",
            "Epoch 166/250\n",
            "110/110 [==============================] - 0s 1ms/step - loss: 0.0096\n",
            "Epoch 167/250\n",
            "110/110 [==============================] - 0s 1ms/step - loss: 0.0114\n",
            "Epoch 168/250\n",
            "110/110 [==============================] - 0s 1ms/step - loss: 0.0114\n",
            "Epoch 169/250\n",
            "110/110 [==============================] - 0s 1ms/step - loss: 0.0094\n",
            "Epoch 170/250\n",
            "110/110 [==============================] - 0s 1ms/step - loss: 0.0095\n",
            "Epoch 171/250\n",
            "110/110 [==============================] - 0s 1ms/step - loss: 0.0093\n",
            "Epoch 172/250\n",
            "110/110 [==============================] - 0s 1ms/step - loss: 0.0117\n",
            "Epoch 173/250\n",
            "110/110 [==============================] - 0s 1ms/step - loss: 0.0125\n",
            "Epoch 174/250\n",
            "110/110 [==============================] - 0s 1ms/step - loss: 0.0097\n",
            "Epoch 175/250\n",
            "110/110 [==============================] - 0s 1ms/step - loss: 0.0113\n",
            "Epoch 176/250\n",
            "110/110 [==============================] - 0s 1ms/step - loss: 0.0091\n",
            "Epoch 177/250\n",
            "110/110 [==============================] - 0s 1ms/step - loss: 0.0089\n",
            "Epoch 178/250\n",
            "110/110 [==============================] - 0s 1ms/step - loss: 0.0096\n",
            "Epoch 179/250\n",
            "110/110 [==============================] - 0s 1ms/step - loss: 0.0089\n",
            "Epoch 180/250\n",
            "110/110 [==============================] - 0s 1ms/step - loss: 0.0084\n",
            "Epoch 181/250\n",
            "110/110 [==============================] - 0s 1ms/step - loss: 0.0094\n",
            "Epoch 182/250\n",
            "110/110 [==============================] - 0s 1ms/step - loss: 0.0072\n",
            "Epoch 183/250\n",
            "110/110 [==============================] - 0s 1ms/step - loss: 0.0107\n",
            "Epoch 184/250\n",
            "110/110 [==============================] - 0s 1ms/step - loss: 0.0089\n",
            "Epoch 185/250\n",
            "110/110 [==============================] - 0s 1ms/step - loss: 0.0080\n",
            "Epoch 186/250\n",
            "110/110 [==============================] - 0s 1ms/step - loss: 0.0108\n",
            "Epoch 187/250\n",
            "110/110 [==============================] - 0s 1ms/step - loss: 0.0095\n",
            "Epoch 188/250\n",
            "110/110 [==============================] - 0s 1ms/step - loss: 0.0102\n",
            "Epoch 189/250\n",
            "110/110 [==============================] - 0s 1ms/step - loss: 0.0089\n",
            "Epoch 190/250\n",
            "110/110 [==============================] - 0s 1ms/step - loss: 0.0100\n",
            "Epoch 191/250\n",
            "110/110 [==============================] - 0s 1ms/step - loss: 0.0086\n",
            "Epoch 192/250\n",
            "110/110 [==============================] - 0s 1ms/step - loss: 0.0085\n",
            "Epoch 193/250\n",
            "110/110 [==============================] - 0s 1ms/step - loss: 0.0094\n",
            "Epoch 194/250\n",
            "110/110 [==============================] - 0s 1ms/step - loss: 0.0085\n",
            "Epoch 195/250\n",
            "110/110 [==============================] - 0s 1ms/step - loss: 0.0071\n",
            "Epoch 196/250\n",
            "110/110 [==============================] - 0s 1ms/step - loss: 0.0081\n",
            "Epoch 197/250\n",
            "110/110 [==============================] - 0s 1ms/step - loss: 0.0075\n",
            "Epoch 198/250\n",
            "110/110 [==============================] - 0s 1ms/step - loss: 0.0085\n",
            "Epoch 199/250\n",
            "110/110 [==============================] - 0s 1ms/step - loss: 0.0080\n",
            "Epoch 200/250\n",
            "110/110 [==============================] - 0s 1ms/step - loss: 0.0087\n",
            "Epoch 201/250\n",
            "110/110 [==============================] - 0s 1ms/step - loss: 0.0095\n",
            "Epoch 202/250\n",
            "110/110 [==============================] - 0s 1ms/step - loss: 0.0071\n",
            "Epoch 203/250\n",
            "110/110 [==============================] - 0s 1ms/step - loss: 0.0070\n",
            "Epoch 204/250\n",
            "110/110 [==============================] - 0s 1ms/step - loss: 0.0076\n",
            "Epoch 205/250\n",
            "110/110 [==============================] - 0s 1ms/step - loss: 0.0080\n",
            "Epoch 206/250\n",
            "110/110 [==============================] - 0s 1ms/step - loss: 0.0095\n",
            "Epoch 207/250\n",
            "110/110 [==============================] - 0s 1ms/step - loss: 0.0066\n",
            "Epoch 208/250\n",
            "110/110 [==============================] - 0s 1ms/step - loss: 0.0067\n",
            "Epoch 209/250\n",
            "110/110 [==============================] - 0s 1ms/step - loss: 0.0072\n",
            "Epoch 210/250\n",
            "110/110 [==============================] - 0s 1ms/step - loss: 0.0094\n",
            "Epoch 211/250\n",
            "110/110 [==============================] - 0s 1ms/step - loss: 0.0080\n",
            "Epoch 212/250\n",
            "110/110 [==============================] - 0s 1ms/step - loss: 0.0071\n",
            "Epoch 213/250\n",
            "110/110 [==============================] - 0s 1ms/step - loss: 0.0094\n",
            "Epoch 214/250\n",
            "110/110 [==============================] - 0s 1ms/step - loss: 0.0078\n",
            "Epoch 215/250\n",
            "110/110 [==============================] - 0s 1ms/step - loss: 0.0083\n",
            "Epoch 216/250\n",
            "110/110 [==============================] - 0s 1ms/step - loss: 0.0069\n",
            "Epoch 217/250\n",
            "110/110 [==============================] - 0s 1ms/step - loss: 0.0078\n",
            "Epoch 218/250\n",
            "110/110 [==============================] - 0s 1ms/step - loss: 0.0088\n",
            "Epoch 219/250\n",
            "110/110 [==============================] - 0s 1ms/step - loss: 0.0064\n",
            "Epoch 220/250\n",
            "110/110 [==============================] - 0s 1ms/step - loss: 0.0076\n",
            "Epoch 221/250\n",
            "110/110 [==============================] - 0s 1ms/step - loss: 0.0054\n",
            "Epoch 222/250\n",
            "110/110 [==============================] - 0s 1ms/step - loss: 0.0064\n",
            "Epoch 223/250\n",
            "110/110 [==============================] - 0s 1ms/step - loss: 0.0065\n",
            "Epoch 224/250\n",
            "110/110 [==============================] - 0s 1ms/step - loss: 0.0070\n",
            "Epoch 225/250\n",
            "110/110 [==============================] - 0s 1ms/step - loss: 0.0061\n",
            "Epoch 226/250\n",
            "110/110 [==============================] - 0s 1ms/step - loss: 0.0067\n",
            "Epoch 227/250\n",
            "110/110 [==============================] - 0s 1ms/step - loss: 0.0066\n",
            "Epoch 228/250\n",
            "110/110 [==============================] - 0s 1ms/step - loss: 0.0059\n",
            "Epoch 229/250\n",
            "110/110 [==============================] - 0s 1ms/step - loss: 0.0066\n",
            "Epoch 230/250\n",
            "110/110 [==============================] - 0s 1ms/step - loss: 0.0076\n",
            "Epoch 231/250\n",
            "110/110 [==============================] - 0s 1ms/step - loss: 0.0074\n",
            "Epoch 232/250\n",
            "110/110 [==============================] - 0s 1ms/step - loss: 0.0063\n",
            "Epoch 233/250\n",
            "110/110 [==============================] - 0s 1ms/step - loss: 0.0065\n",
            "Epoch 234/250\n",
            "110/110 [==============================] - 0s 1ms/step - loss: 0.0059\n",
            "Epoch 235/250\n",
            "110/110 [==============================] - 0s 1ms/step - loss: 0.0059\n",
            "Epoch 236/250\n",
            "110/110 [==============================] - 0s 1ms/step - loss: 0.0054\n",
            "Epoch 237/250\n",
            "110/110 [==============================] - 0s 1ms/step - loss: 0.0060\n",
            "Epoch 238/250\n",
            "110/110 [==============================] - 0s 1ms/step - loss: 0.0059\n",
            "Epoch 239/250\n",
            "110/110 [==============================] - 0s 1ms/step - loss: 0.0056\n",
            "Epoch 240/250\n",
            "110/110 [==============================] - 0s 1ms/step - loss: 0.0059\n",
            "Epoch 241/250\n",
            "110/110 [==============================] - 0s 1ms/step - loss: 0.0056\n",
            "Epoch 242/250\n",
            "110/110 [==============================] - 0s 1ms/step - loss: 0.0066\n",
            "Epoch 243/250\n",
            "110/110 [==============================] - 0s 1ms/step - loss: 0.0064\n",
            "Epoch 244/250\n",
            "110/110 [==============================] - 0s 1ms/step - loss: 0.0060\n",
            "Epoch 245/250\n",
            "110/110 [==============================] - 0s 1ms/step - loss: 0.0043\n",
            "Epoch 246/250\n",
            "110/110 [==============================] - 0s 1ms/step - loss: 0.0071\n",
            "Epoch 247/250\n",
            "110/110 [==============================] - 0s 1ms/step - loss: 0.0065\n",
            "Epoch 248/250\n",
            "110/110 [==============================] - 0s 1ms/step - loss: 0.0084\n",
            "Epoch 249/250\n",
            "110/110 [==============================] - 0s 1ms/step - loss: 0.0058\n",
            "Epoch 250/250\n",
            "110/110 [==============================] - 0s 1ms/step - loss: 0.0067\n"
          ],
          "name": "stdout"
        }
      ]
    },
    {
      "cell_type": "code",
      "metadata": {
        "id": "CGbM2D9qB7Ny",
        "colab_type": "code",
        "colab": {
          "base_uri": "https://localhost:8080/",
          "height": 265
        },
        "outputId": "2c96ce91-8db7-40cc-bac5-109d71d0f8f8"
      },
      "source": [
        "plt.plot(history.history['loss'], label = 'train');"
      ],
      "execution_count": 42,
      "outputs": [
        {
          "output_type": "display_data",
          "data": {
            "image/png": "[encoded data removed]",
            "text/plain": [
              "<Figure size 432x288 with 1 Axes>"
            ]
          },
          "metadata": {
            "tags": [],
            "needs_background": "light"
          }
        }
      ]
    },
    {
      "cell_type": "code",
      "metadata": {
        "id": "Pwvkf59-B5Iy",
        "colab_type": "code",
        "colab": {}
      },
      "source": [
        "from keras.utils.vis_utils import plot_model"
      ],
      "execution_count": 0,
      "outputs": []
    },
    {
      "cell_type": "markdown",
      "metadata": {
        "id": "gwpyImwA3yon",
        "colab_type": "text"
      },
      "source": [
        "## Parte 3 - Fazer as previsões e analisar os resultados"
      ]
    },
    {
      "cell_type": "markdown",
      "metadata": {
        "id": "wkXRvDjT4V-B",
        "colab_type": "text"
      },
      "source": [
        "### Base de teste"
      ]
    },
    {
      "cell_type": "code",
      "metadata": {
        "id": "Bn_n72dh30K-",
        "colab_type": "code",
        "colab": {}
      },
      "source": [
        "dataset_test = pd.read_csv('test.csv')\n",
        "test_airline = dataset_test.iloc[:, 1:2].values"
      ],
      "execution_count": 0,
      "outputs": []
    },
    {
      "cell_type": "markdown",
      "metadata": {
        "id": "EOo84exH4bfs",
        "colab_type": "text"
      },
      "source": [
        "### Construir a estrutura para teste"
      ]
    },
    {
      "cell_type": "code",
      "metadata": {
        "id": "ob_-mGA_B5px",
        "colab_type": "code",
        "colab": {
          "base_uri": "https://localhost:8080/",
          "height": 34
        },
        "outputId": "59fe6ac8-b1b5-4840-db56-17c363247fda"
      },
      "source": [
        "# preciso pegar parte da base de treino\n",
        "# por ex, para preever os primeiros valores da base de testes preciso de alguns valores que estãoo na base de treino\n",
        "\n",
        "# O tamanho da base de teste é 24\n",
        "dataset_total = pd.concat((dataset_train.iloc[:,1], dataset_test.iloc[:,1]), axis = 0)\n",
        "testLength = len(dataset_test)\n",
        "# pegar todos os valores da base de teste e os ultimos da base de treino\n",
        "inputs = dataset_total[len(dataset_total) - testLength - window:].values\n",
        "inputs = inputs.reshape(inputs.shape[0],1)\n",
        "\n",
        "inputs.shape\n"
      ],
      "execution_count": 60,
      "outputs": [
        {
          "output_type": "execute_result",
          "data": {
            "text/plain": [
              "(34, 1)"
            ]
          },
          "metadata": {
            "tags": []
          },
          "execution_count": 60
        }
      ]
    },
    {
      "cell_type": "code",
      "metadata": {
        "id": "4IouhvciDfc2",
        "colab_type": "code",
        "colab": {}
      },
      "source": [
        "###Normalização"
      ],
      "execution_count": 0,
      "outputs": []
    },
    {
      "cell_type": "code",
      "metadata": {
        "id": "VkofsvyDDaWk",
        "colab_type": "code",
        "colab": {}
      },
      "source": [
        "inputs = sc.transform(inputs)\n",
        "X_test = []\n",
        "for i in range(window, inputs.shape[0]): \n",
        "    X_test.append(inputs[i-window:i, 0])\n",
        "X_test = np.array(X_test)\n",
        "\n",
        "X_test = np.reshape(X_test, (X_test.shape[0], X_test.shape[1], 1))"
      ],
      "execution_count": 0,
      "outputs": []
    },
    {
      "cell_type": "code",
      "metadata": {
        "id": "yh5tiduWDrrc",
        "colab_type": "code",
        "colab": {
          "base_uri": "https://localhost:8080/",
          "height": 34
        },
        "outputId": "c976cc83-0ef1-4aa3-910c-4893a616301d"
      },
      "source": [
        "X_test.shape"
      ],
      "execution_count": 63,
      "outputs": [
        {
          "output_type": "execute_result",
          "data": {
            "text/plain": [
              "(24, 10, 1)"
            ]
          },
          "metadata": {
            "tags": []
          },
          "execution_count": 63
        }
      ]
    },
    {
      "cell_type": "markdown",
      "metadata": {
        "id": "rtkB4NA74e1B",
        "colab_type": "text"
      },
      "source": [
        "### Fazer as previsões"
      ]
    },
    {
      "cell_type": "code",
      "metadata": {
        "id": "nKIq1h-E4g9Z",
        "colab_type": "code",
        "colab": {
          "base_uri": "https://localhost:8080/",
          "height": 102
        },
        "outputId": "6ef90d0e-ade6-419c-c81e-f4438fd4c247"
      },
      "source": [
        "predicted_airline = regressor.predict(X_test)\n",
        "predicted_airline[0:5]\n"
      ],
      "execution_count": 64,
      "outputs": [
        {
          "output_type": "execute_result",
          "data": {
            "text/plain": [
              "array([[0.56057847],\n",
              "       [0.61613464],\n",
              "       [0.61967343],\n",
              "       [0.76631796],\n",
              "       [0.75939316]], dtype=float32)"
            ]
          },
          "metadata": {
            "tags": []
          },
          "execution_count": 64
        }
      ]
    },
    {
      "cell_type": "code",
      "metadata": {
        "id": "pGaVgHcWEAF6",
        "colab_type": "code",
        "colab": {
          "base_uri": "https://localhost:8080/",
          "height": 102
        },
        "outputId": "359e28cd-4521-4180-e4a9-9686c2823409"
      },
      "source": [
        "# Agora desnormalize as previsoes\n",
        "predicted_airline = sc.inverse_transform(predicted_airline)\n",
        "predicted_airline[0:5]"
      ],
      "execution_count": 65,
      "outputs": [
        {
          "output_type": "execute_result",
          "data": {
            "text/plain": [
              "array([[328.79196],\n",
              "       [351.06998],\n",
              "       [352.48904],\n",
              "       [411.2935 ],\n",
              "       [408.51666]], dtype=float32)"
            ]
          },
          "metadata": {
            "tags": []
          },
          "execution_count": 65
        }
      ]
    },
    {
      "cell_type": "markdown",
      "metadata": {
        "id": "guvk7yXr4o0g",
        "colab_type": "text"
      },
      "source": [
        "### Visualizar os resultados de treino e teste"
      ]
    },
    {
      "cell_type": "code",
      "metadata": {
        "id": "tstXl2oS4rIo",
        "colab_type": "code",
        "colab": {
          "base_uri": "https://localhost:8080/",
          "height": 295
        },
        "outputId": "a667c2a8-9b16-47e6-969e-88fd30af9a90"
      },
      "source": [
        "allTargetData = np.vstack((training_set, test_airline)) # concatena bases dde treino e teste\n",
        "training_predicted_airline = regressor.predict(X_train) #predito para o treino\n",
        "training_predicted_airline = sc.inverse_transform(training_predicted_airline) # desnormaliza previsto para o treino\n",
        "allForecastedData = np.vstack((training_set[0:window], training_predicted_airline, predicted_airline)) #concatena previsoes\n",
        "plt.plot(allTargetData, color = 'red', label = 'Real')\n",
        "plt.plot(allForecastedData, color = 'blue', label = 'Previsto')\n",
        "plt.title('Previsão de série temporal')\n",
        "plt.xlabel('Tempo')\n",
        "plt.ylabel('Passageiros')\n",
        "plt.legend()\n",
        "plt.savefig('predictions_training_test.png')\n",
        "plt.show()"
      ],
      "execution_count": 66,
      "outputs": [
        {
          "output_type": "display_data",
          "data": {
            "image/png": "[encoded data removed]",
            "text/plain": [
              "<Figure size 432x288 with 1 Axes>"
            ]
          },
          "metadata": {
            "tags": [],
            "needs_background": "light"
          }
        }
      ]
    },
    {
      "cell_type": "markdown",
      "metadata": {
        "id": "ytEVhQht4we3",
        "colab_type": "text"
      },
      "source": [
        "## Parte 4 - Métricas de avaliação"
      ]
    },
    {
      "cell_type": "code",
      "metadata": {
        "id": "rqOonVj64ydu",
        "colab_type": "code",
        "colab": {
          "base_uri": "https://localhost:8080/",
          "height": 34
        },
        "outputId": "e996c340-97c1-46f0-c964-4d51e0b3950e"
      },
      "source": [
        "import math\n",
        "from sklearn.metrics import mean_squared_error\n",
        "rmse = math.sqrt(mean_squared_error(test_airline, predicted_airline))\n",
        "print('RMSE: ', rmse)"
      ],
      "execution_count": 67,
      "outputs": [
        {
          "output_type": "stream",
          "text": [
            "RMSE:  56.80431265923948\n"
          ],
          "name": "stdout"
        }
      ]
    },
    {
      "cell_type": "code",
      "metadata": {
        "id": "ODeley1K42WW",
        "colab_type": "code",
        "colab": {
          "base_uri": "https://localhost:8080/",
          "height": 34
        },
        "outputId": "2d20ca3b-9b28-442e-f5f1-c64f92769d8d"
      },
      "source": [
        "mse = mean_squared_error(test_airline, predicted_airline)\n",
        "print('MSE: ',mse)"
      ],
      "execution_count": 68,
      "outputs": [
        {
          "output_type": "stream",
          "text": [
            "MSE:  3226.729936688634\n"
          ],
          "name": "stdout"
        }
      ]
    },
    {
      "cell_type": "code",
      "metadata": {
        "id": "L7_uU_8T44QA",
        "colab_type": "code",
        "colab": {
          "base_uri": "https://localhost:8080/",
          "height": 34
        },
        "outputId": "f47092d4-4bc2-4ba5-e204-9d55a733d0f4"
      },
      "source": [
        "mape = np.mean(np.abs((test_airline - predicted_airline) / test_airline)) * 100\n",
        "print('MAPE: ',mape)"
      ],
      "execution_count": 69,
      "outputs": [
        {
          "output_type": "stream",
          "text": [
            "MAPE:  9.634304454508108\n"
          ],
          "name": "stdout"
        }
      ]
    },
    {
      "cell_type": "code",
      "metadata": {
        "id": "l9ZGfAIwEuIr",
        "colab_type": "code",
        "colab": {}
      },
      "source": [
        ""
      ],
      "execution_count": 0,
      "outputs": []
    }
  ]
}