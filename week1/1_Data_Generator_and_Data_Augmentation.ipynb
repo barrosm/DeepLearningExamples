{
  "nbformat": 4,
  "nbformat_minor": 0,
  "metadata": {
    "colab": {
      "name": "1. Data Generator and Data Augmentation.ipynb",
      "version": "0.3.2",
      "provenance": []
    },
    "kernelspec": {
      "name": "python3",
      "display_name": "Python 3"
    }
  },
  "cells": [
    {
      "metadata": {
        "id": "W1gXozA5X-11",
        "colab_type": "text"
      },
      "cell_type": "markdown",
      "source": [
        "<table style=\"width:100%\">\n",
        "  <tr>\n",
        "    <td><center style=\"font-size:300%;\">Data Generator and Data Augmentation</center></td>\n",
        "    <td><img src=\"https://logodownload.org/wp-content/uploads/2015/02/puc-rio-logo.gif\" width=\"100\"/></td> \n",
        "  </tr>    \n",
        "</table>\n",
        "\n",
        "Msc. Cristian Muñoz V."
      ]
    },
    {
      "metadata": {
        "id": "Rjdhn-ZwcLxU",
        "colab_type": "code",
        "colab": {}
      },
      "cell_type": "code",
      "source": [
        "%%bash\n",
        "\n",
        "wget -O resources.rar https://github.com/crismunoz/DeepLearningExamples/raw/master/week1/resources/resources.rar\n",
        "unrar x resources.rar"
      ],
      "execution_count": 0,
      "outputs": []
    },
    {
      "metadata": {
        "id": "9y-BmoqkX94e",
        "colab_type": "code",
        "colab": {}
      },
      "cell_type": "code",
      "source": [
        "from itertools import cycle,islice\n",
        "from keras.preprocessing.image import ImageDataGenerator\n",
        "import matplotlib.pyplot as plt\n",
        "import numpy as np\n",
        "from keras.preprocessing.image import array_to_img, img_to_array, load_img\n",
        "import cv2\n",
        "from data_generator_utils import *"
      ],
      "execution_count": 0,
      "outputs": []
    },
    {
      "metadata": {
        "id": "Hvj0UuAubFUe",
        "colab_type": "text"
      },
      "cell_type": "markdown",
      "source": [
        "Criar um data-generator"
      ]
    },
    {
      "metadata": {
        "id": "t4BoyvpwYFQ9",
        "colab_type": "code",
        "colab": {}
      },
      "cell_type": "code",
      "source": [
        "def generator():\n",
        "    professores = ['Manoela','Leonardo','Cristian','Smith',\\\n",
        "                   'Carol','Ashade', 'Pedro','Evelyn','Julia']\n",
        "    \"\"\"\n",
        "    TODO: Implementar uma função que gere um objeto data-generator simples\n",
        "    com a lista de professores do BI\n",
        "    \"\"\"\n",
        "    "
      ],
      "execution_count": 0,
      "outputs": []
    },
    {
      "metadata": {
        "id": "jrv6ID6tbBq_",
        "colab_type": "text"
      },
      "cell_type": "markdown",
      "source": [
        "Invocar o objeto data-generator:"
      ]
    },
    {
      "metadata": {
        "id": "c3ZrgoTKYJJl",
        "colab_type": "code",
        "colab": {}
      },
      "cell_type": "code",
      "source": [
        "\n"
      ],
      "execution_count": 0,
      "outputs": []
    },
    {
      "metadata": {
        "id": "eLDT70vVboZI",
        "colab_type": "text"
      },
      "cell_type": "markdown",
      "source": [
        "Usar data-generator"
      ]
    },
    {
      "metadata": {
        "id": "KGFPEI-Jbn0P",
        "colab_type": "code",
        "colab": {}
      },
      "cell_type": "code",
      "source": [
        ""
      ],
      "execution_count": 0,
      "outputs": []
    },
    {
      "metadata": {
        "id": "d1XRrShrbILI",
        "colab_type": "text"
      },
      "cell_type": "markdown",
      "source": [
        "Criar um data-generator com loop infinito (usar 'cycle' e 'islice''):"
      ]
    },
    {
      "metadata": {
        "id": "QmANqQkXYKh0",
        "colab_type": "code",
        "colab": {}
      },
      "cell_type": "code",
      "source": [
        "def generator(batch_size):\n",
        "    professores = ['Manoela','Leonardo','Cristian','Smith',\\\n",
        "                   'Carol','Ashade', 'Pedro','Evelyn','Julia']\n",
        "    \"\"\"\n",
        "    TODO: Implementar uma função que gere um objeto data-generator \n",
        "    com loop infinito com a lista de professores do BI\n",
        "    \"\"\"\n",
        "    "
      ],
      "execution_count": 0,
      "outputs": []
    },
    {
      "metadata": {
        "id": "BLJrSne0bkV6",
        "colab_type": "text"
      },
      "cell_type": "markdown",
      "source": [
        "Invocar o objeto data-generator:"
      ]
    },
    {
      "metadata": {
        "id": "GCBDZ6eSYNS1",
        "colab_type": "code",
        "colab": {}
      },
      "cell_type": "code",
      "source": [
        ""
      ],
      "execution_count": 0,
      "outputs": []
    },
    {
      "metadata": {
        "id": "TikLE2vYbtn8",
        "colab_type": "text"
      },
      "cell_type": "markdown",
      "source": [
        "Usar data-generator"
      ]
    },
    {
      "metadata": {
        "id": "7uJCjR4BYO80",
        "colab_type": "code",
        "colab": {}
      },
      "cell_type": "code",
      "source": [
        ""
      ],
      "execution_count": 0,
      "outputs": []
    },
    {
      "metadata": {
        "id": "eE0af0vDbwqx",
        "colab_type": "text"
      },
      "cell_type": "markdown",
      "source": [
        "Implementar um data-generator para leer um batch de tweets"
      ]
    },
    {
      "metadata": {
        "id": "Ho-KZREwYQW8",
        "colab_type": "code",
        "colab": {}
      },
      "cell_type": "code",
      "source": [
        ""
      ],
      "execution_count": 0,
      "outputs": []
    },
    {
      "metadata": {
        "id": "KeFwP9ZWYUK3",
        "colab_type": "code",
        "colab": {}
      },
      "cell_type": "code",
      "source": [
        "# Invokar dg"
      ],
      "execution_count": 0,
      "outputs": []
    },
    {
      "metadata": {
        "id": "Ne6pNEHjYYKZ",
        "colab_type": "code",
        "colab": {}
      },
      "cell_type": "code",
      "source": [
        "# Usar dg"
      ],
      "execution_count": 0,
      "outputs": []
    },
    {
      "metadata": {
        "id": "EtreKbFGcAPA",
        "colab_type": "text"
      },
      "cell_type": "markdown",
      "source": [
        "# Data Augmentation (MNIST)"
      ]
    },
    {
      "metadata": {
        "id": "uEE5BJcFYYjM",
        "colab_type": "code",
        "colab": {}
      },
      "cell_type": "code",
      "source": [
        "(X_train, y_train), (X_test,y_test)=Get_data()\n",
        "print('Training shape: {}\\nTest shape:{}'.format(X_train.shape[0], X_test.shape[0]))\n",
        "PlotDigits(X_train)"
      ],
      "execution_count": 0,
      "outputs": []
    },
    {
      "metadata": {
        "id": "UbcxeLu3fG8A",
        "colab_type": "text"
      },
      "cell_type": "markdown",
      "source": [
        "Normalização:"
      ]
    },
    {
      "metadata": {
        "id": "CYsa7oshYbA8",
        "colab_type": "code",
        "colab": {}
      },
      "cell_type": "code",
      "source": [
        "X_train.mean() , X_train.std()"
      ],
      "execution_count": 0,
      "outputs": []
    },
    {
      "metadata": {
        "id": "ZaxJw6aBYisV",
        "colab_type": "code",
        "colab": {}
      },
      "cell_type": "code",
      "source": [
        "# Definir o ImageDataGenerator e ajustar os parametros dos dados\n",
        "dadaGen = ImageDataGenerator(featurewise_center=True, featurewise_std_normalization=True)\n",
        "dadaGen.fit(X_train)\n",
        "                             \n",
        "# Definir o ImageDataGenerator e ajustar os parametros dos dados\n",
        "generator = dadaGen.flow(X_train, y_train, batch_size=9)\n",
        "X_batch, y_batch = next(generator)\n",
        "PlotDigits(X_batch)\n",
        "print(y_batch)"
      ],
      "execution_count": 0,
      "outputs": []
    },
    {
      "metadata": {
        "id": "cnq99yNFYbj0",
        "colab_type": "code",
        "colab": {}
      },
      "cell_type": "code",
      "source": [
        "X_batch.mean() , X_batch.std()"
      ],
      "execution_count": 0,
      "outputs": []
    },
    {
      "metadata": {
        "id": "pGuk8aC1graJ",
        "colab_type": "text"
      },
      "cell_type": "markdown",
      "source": [
        "Outras transformações:"
      ]
    },
    {
      "metadata": {
        "id": "gMzt__vLYfKb",
        "colab_type": "code",
        "colab": {}
      },
      "cell_type": "code",
      "source": [
        "dadaGen = ImageDataGenerator(zca_whitening=True)\n",
        "#dadaGen = ImageDataGenerator(rotation_range=40)\n",
        "#dadaGen = ImageDataGenerator(horizontal_flip=True, vertical_flip=True)\n",
        "dadaGen.fit(X_train)\n",
        "                             \n",
        "generator = dadaGen.flow(X_train, y_train, batch_size=9)\n",
        "X_batch, y_batch = next(generator)\n",
        "PlotDigits(X_batch)\n",
        "print(y_batch)    "
      ],
      "execution_count": 0,
      "outputs": []
    },
    {
      "metadata": {
        "id": "95z-vOkXhAH3",
        "colab_type": "text"
      },
      "cell_type": "markdown",
      "source": [
        "Juntando tudo:"
      ]
    },
    {
      "metadata": {
        "id": "MzRcplN-e2K6",
        "colab_type": "code",
        "colab": {}
      },
      "cell_type": "code",
      "source": [
        "#img_path = 'Chevrolet.jpg'\n",
        "img_path = 'harley.jpg'\n",
        "imagem=load_img(img_path, target_size=(224,224,3));imagem"
      ],
      "execution_count": 0,
      "outputs": []
    },
    {
      "metadata": {
        "id": "AM9j5P6BaDWk",
        "colab_type": "code",
        "colab": {}
      },
      "cell_type": "code",
      "source": [
        "# Transformando a imagem para um tipo array\n",
        "img_array=img_to_array(imagem).astype('float32')\n",
        "img_array=img_array.reshape((1,224,224,3));img_array.shape"
      ],
      "execution_count": 0,
      "outputs": []
    },
    {
      "metadata": {
        "id": "1716BvcVaBxR",
        "colab_type": "code",
        "colab": {}
      },
      "cell_type": "code",
      "source": [
        "dadaGen = ImageDataGenerator(rotation_range=40,\\\n",
        "                             width_shift_range=0.2,\\\n",
        "                             height_shift_range=0.2,\\\n",
        "                             shear_range=0.1,\\\n",
        "                             zoom_range=0.01,\\\n",
        "                             horizontal_flip=True)\n",
        "\n",
        "bashDados=dadaGen.flow(img_array, batch_size=1,save_to_dir='results', save_prefix='fig', save_format='jpeg')"
      ],
      "execution_count": 0,
      "outputs": []
    },
    {
      "metadata": {
        "id": "quHoyKmCaFHQ",
        "colab_type": "code",
        "colab": {}
      },
      "cell_type": "code",
      "source": [
        "!mkdir -p results"
      ],
      "execution_count": 0,
      "outputs": []
    },
    {
      "metadata": {
        "id": "KGVGZU9paGCG",
        "colab_type": "code",
        "colab": {}
      },
      "cell_type": "code",
      "source": [
        "out = next(bashDados)\n",
        "plt.imshow(out[0].astype(np.int32))\n",
        "plt.axis('off')"
      ],
      "execution_count": 0,
      "outputs": []
    }
  ]
}