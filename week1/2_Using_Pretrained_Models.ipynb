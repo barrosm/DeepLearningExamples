{
  "nbformat": 4,
  "nbformat_minor": 0,
  "metadata": {
    "colab": {
      "name": "2.Using Pretrained Models.ipynb",
      "version": "0.3.2",
      "provenance": []
    },
    "kernelspec": {
      "name": "python3",
      "display_name": "Python 3"
    }
  },
  "cells": [
    {
      "metadata": {
        "id": "50tptBtxiLPW",
        "colab_type": "text"
      },
      "cell_type": "markdown",
      "source": [
        "<table style=\"width:100%\" align=\"right\">\n",
        "  <tr>\n",
        "    <td><center style=\"font-size:300%;\">Using Pretrained Models</center></td>\n",
        "    <td><img src=\"https://logodownload.org/wp-content/uploads/2015/02/puc-rio-logo.gif\" width=\"100\"/></td> \n",
        "  </tr>    \n",
        "</table>\n",
        "\n",
        "Msc. Cristian Muñoz V."
      ]
    },
    {
      "metadata": {
        "id": "2qQZfSCaiG25",
        "colab_type": "code",
        "colab": {}
      },
      "cell_type": "code",
      "source": [
        "import numpy as np\n",
        "from PIL import Image\n",
        "from keras.applications.vgg16 import preprocess_input,decode_predictions\n",
        "from keras.preprocessing.image import array_to_img, img_to_array, load_img\n",
        "#from keras.applications.mobilenet import preprocess_input,decode_predictions\n",
        "from random import randint\n",
        "import matplotlib.pylab as plt\n",
        "from keras.applications import  VGG16\n",
        "#from keras.applications.mobilenet import  MobileNet\n",
        "import cv2\n",
        "import matplotlib.pyplot as plt\n",
        "import os"
      ],
      "execution_count": 0,
      "outputs": []
    },
    {
      "metadata": {
        "id": "M4s9_QKSjUXc",
        "colab_type": "text"
      },
      "cell_type": "markdown",
      "source": [
        "Se você quiser suber suas imagens:\n",
        "```python\n",
        "from google.colab import files\n",
        "uploaded = files.upload()\n",
        "```\n"
      ]
    },
    {
      "metadata": {
        "id": "u43EgxZiilqy",
        "colab_type": "code",
        "colab": {}
      },
      "cell_type": "code",
      "source": [
        "!wget https://www.petz.com.br/blog/wp-content/uploads/2017/07/gato02.jpg"
      ],
      "execution_count": 0,
      "outputs": []
    },
    {
      "metadata": {
        "id": "iy2qOp6Wiu8a",
        "colab_type": "code",
        "colab": {}
      },
      "cell_type": "code",
      "source": [
        "model = VGG16(weights='imagenet', include_top=True)\n",
        "model.summary()"
      ],
      "execution_count": 0,
      "outputs": []
    },
    {
      "metadata": {
        "id": "S7ZmXQ97i-nj",
        "colab_type": "code",
        "colab": {}
      },
      "cell_type": "code",
      "source": [
        "img_path = 'gato02.jpg'\n",
        "imagem=load_img(img_path, target_size=(224,224,3));imagem"
      ],
      "execution_count": 0,
      "outputs": []
    },
    {
      "metadata": {
        "id": "SKFIkmKZjAHn",
        "colab_type": "code",
        "colab": {}
      },
      "cell_type": "code",
      "source": [
        "img_array=img_to_array(imagem).astype('float32')\n",
        "img_array=img_array.reshape((1,224,224,3))\n",
        "\n",
        "img_array = preprocess_input(img_array)\n",
        "preds = model.predict(img_array)\n",
        "print('Predicted:', decode_predictions(preds, top=3)[0])"
      ],
      "execution_count": 0,
      "outputs": []
    }
  ]
}