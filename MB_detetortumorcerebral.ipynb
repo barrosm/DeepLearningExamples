{
  "nbformat": 4,
  "nbformat_minor": 0,
  "metadata": {
    "kernelspec": {
      "display_name": "Python 3",
      "language": "python",
      "name": "python3"
    },
    "language_info": {
      "name": "python",
      "version": "3.6.4",
      "mimetype": "text/x-python",
      "codemirror_mode": {
        "name": "ipython",
        "version": 3
      },
      "pygments_lexer": "ipython3",
      "nbconvert_exporter": "python",
      "file_extension": ".py"
    },
    "colab": {
      "name": "MB_detetortumorcerebral.ipynb",
      "provenance": [],
      "collapsed_sections": [],
      "include_colab_link": true
    }
  },
  "cells": [
    {
      "cell_type": "markdown",
      "metadata": {
        "id": "view-in-github",
        "colab_type": "text"
      },
      "source": [
        "<a href=\"https://colab.research.google.com/github/barrosm/DeepLearningExamples/blob/master/MB_detetortumorcerebral.ipynb\" target=\"_parent\"><img src=\"https://colab.research.google.com/assets/colab-badge.svg\" alt=\"Open In Colab\"/></a>"
      ]
    },
    {
      "cell_type": "code",
      "metadata": {
        "_uuid": "8f2839f25d086af736a60e9eeb907d3b93b6e0e5",
        "_cell_guid": "b1076dfc-b9ad-4769-8c92-a6c4dae69d19",
        "trusted": true,
        "id": "MoeAcEv2HJ2P",
        "colab_type": "code",
        "colab": {
          "base_uri": "https://localhost:8080/",
          "height": 34
        },
        "outputId": "07c3230d-6bb2-4fc8-841f-dc215983eda6"
      },
      "source": [
        "\n",
        "import numpy as np # linear algebra\n",
        "import pandas as pd # data processing, CSV file I/O (e.g. pd.read_csv)\n",
        "import math\n",
        "import cv2\n",
        "import matplotlib.pyplot as plt\n",
        "import os\n",
        "import seaborn as sns\n",
        "import umap\n",
        "from PIL import Image\n",
        "from scipy import misc\n",
        "from os import listdir\n",
        "from os.path import isfile, join\n",
        "import numpy as np\n",
        "from scipy import misc\n",
        "from random import shuffle\n",
        "from collections import Counter\n",
        "import matplotlib.pyplot as plt\n",
        "from sklearn.decomposition import PCA\n",
        "from sklearn.manifold import TSNE\n",
        "import tensorflow as tf\n",
        "from keras.models import Sequential\n",
        "from keras.layers import Conv2D, MaxPooling2D\n",
        "from keras.layers import Activation, Dropout, Flatten, Dense\n",
        "from keras.utils.np_utils import to_categorical"
      ],
      "execution_count": 1,
      "outputs": [
        {
          "output_type": "stream",
          "text": [
            "Using TensorFlow backend.\n"
          ],
          "name": "stderr"
        }
      ]
    },
    {
      "cell_type": "code",
      "metadata": {
        "id": "61UAG-6QHOqk",
        "colab_type": "code",
        "colab": {}
      },
      "source": [
        ""
      ],
      "execution_count": 0,
      "outputs": []
    },
    {
      "cell_type": "code",
      "metadata": {
        "colab_type": "code",
        "id": "QBPJ1akQMLWQ",
        "outputId": "4aeb7433-ccb4-4331-d883-9ee137085ebd",
        "colab": {
          "base_uri": "https://localhost:8080/",
          "height": 34
        }
      },
      "source": [
        "from google.colab import drive\n",
        "drive.mount('/content/drive')\n",
        "\n",
        "import os\n",
        "workdir_path = '/content/drive/My Drive/BIMaster_2019/Redes_Neurais/Deep Learning/brain exercise'  # Inserir o local da pasta onde estão os arquivos de entrada (treino e teste)\n",
        "os.chdir(workdir_path)"
      ],
      "execution_count": 10,
      "outputs": [
        {
          "output_type": "stream",
          "text": [
            "Drive already mounted at /content/drive; to attempt to forcibly remount, call drive.mount(\"/content/drive\", force_remount=True).\n"
          ],
          "name": "stdout"
        }
      ]
    },
    {
      "cell_type": "code",
      "metadata": {
        "_cell_guid": "79c7e3d0-c299-4dcb-8224-4455121ee9b0",
        "_uuid": "d629ff2d2480ee46fbb7e2d37f6b5fab8052498a",
        "trusted": true,
        "id": "7SHR_hLpHJ2S",
        "colab_type": "code",
        "outputId": "8d88576a-e2f6-4493-8318-92e4451018ee",
        "colab": {
          "base_uri": "https://localhost:8080/",
          "height": 34
        }
      },
      "source": [
        "os.listdir('brain_tumor_dataset')"
      ],
      "execution_count": 11,
      "outputs": [
        {
          "output_type": "execute_result",
          "data": {
            "text/plain": [
              "['yes', 'no']"
            ]
          },
          "metadata": {
            "tags": []
          },
          "execution_count": 11
        }
      ]
    },
    {
      "cell_type": "code",
      "metadata": {
        "trusted": true,
        "id": "L2rjocWzHJ2V",
        "colab_type": "code",
        "outputId": "db643686-6756-405c-8da7-a977e07b2b00",
        "colab": {
          "base_uri": "https://localhost:8080/",
          "height": 145
        }
      },
      "source": [
        "im =Image.open('brain_tumor_dataset/no/1 no.jpeg').resize((128,128))\n",
        "im"
      ],
      "execution_count": 12,
      "outputs": [
        {
          "output_type": "execute_result",
          "data": {
            "image/png": "[encoded data removed]",
            "text/plain": [
              "<PIL.Image.Image image mode=L size=128x128 at 0x7FAD7F3CBBA8>"
            ]
          },
          "metadata": {
            "tags": []
          },
          "execution_count": 12
        }
      ]
    },
    {
      "cell_type": "code",
      "metadata": {
        "trusted": true,
        "id": "IzLW94-XHJ2X",
        "colab_type": "code",
        "outputId": "dfff94d6-841b-4178-faed-2d5c2eed4fe4",
        "colab": {
          "base_uri": "https://localhost:8080/",
          "height": 145
        }
      },
      "source": [
        "im =Image.open('brain_tumor_dataset/yes/Y1.jpg').resize((128,128))\n",
        "im"
      ],
      "execution_count": 13,
      "outputs": [
        {
          "output_type": "execute_result",
          "data": {
            "image/png": "[encoded data removed]",
            "text/plain": [
              "<PIL.Image.Image image mode=RGB size=128x128 at 0x7FAE2D961B70>"
            ]
          },
          "metadata": {
            "tags": []
          },
          "execution_count": 13
        }
      ]
    },
    {
      "cell_type": "code",
      "metadata": {
        "trusted": true,
        "id": "aSQYOMKKHJ2Z",
        "colab_type": "code",
        "colab": {}
      },
      "source": [
        "yes=os.listdir('brain_tumor_dataset/yes')\n",
        "no=os.listdir('brain_tumor_dataset/no')"
      ],
      "execution_count": 0,
      "outputs": []
    },
    {
      "cell_type": "code",
      "metadata": {
        "trusted": true,
        "id": "43z_yjziHJ2c",
        "colab_type": "code",
        "outputId": "a682ea77-ac35-48ea-b762-b796e2451444",
        "colab": {
          "base_uri": "https://localhost:8080/",
          "height": 34
        }
      },
      "source": [
        "data=np.concatenate([yes,no])\n",
        "len(data)==len(yes)+len(no)"
      ],
      "execution_count": 15,
      "outputs": [
        {
          "output_type": "execute_result",
          "data": {
            "text/plain": [
              "True"
            ]
          },
          "metadata": {
            "tags": []
          },
          "execution_count": 15
        }
      ]
    },
    {
      "cell_type": "code",
      "metadata": {
        "trusted": true,
        "id": "GhjGNG4XHJ2e",
        "colab_type": "code",
        "outputId": "b1003ac0-ab18-4b43-9285-8c900ffbb435",
        "colab": {
          "base_uri": "https://localhost:8080/",
          "height": 34
        }
      },
      "source": [
        "target_x=np.full(len(yes),1)\n",
        "target_y=np.full(len(no),0)\n",
        "data_target=np.concatenate([target_x,target_y])\n",
        "len(data_target)==len(target_x)+len(target_y)"
      ],
      "execution_count": 16,
      "outputs": [
        {
          "output_type": "execute_result",
          "data": {
            "text/plain": [
              "True"
            ]
          },
          "metadata": {
            "tags": []
          },
          "execution_count": 16
        }
      ]
    },
    {
      "cell_type": "code",
      "metadata": {
        "trusted": true,
        "id": "MJXCRCLHHJ2g",
        "colab_type": "code",
        "outputId": "0554be73-dbc4-4a00-c2fa-c5c1e4991d09",
        "colab": {
          "base_uri": "https://localhost:8080/",
          "height": 34
        }
      },
      "source": [
        "len(data_target)==len(data)"
      ],
      "execution_count": 17,
      "outputs": [
        {
          "output_type": "execute_result",
          "data": {
            "text/plain": [
              "True"
            ]
          },
          "metadata": {
            "tags": []
          },
          "execution_count": 17
        }
      ]
    },
    {
      "cell_type": "code",
      "metadata": {
        "trusted": true,
        "id": "NFomXaKBHJ2j",
        "colab_type": "code",
        "outputId": "587d620f-7491-42bc-9cbd-e584de08408b",
        "colab": {
          "base_uri": "https://localhost:8080/",
          "height": 221
        }
      },
      "source": [
        "data_target"
      ],
      "execution_count": 18,
      "outputs": [
        {
          "output_type": "execute_result",
          "data": {
            "text/plain": [
              "array([1, 1, 1, 1, 1, 1, 1, 1, 1, 1, 1, 1, 1, 1, 1, 1, 1, 1, 1, 1, 1, 1,\n",
              "       1, 1, 1, 1, 1, 1, 1, 1, 1, 1, 1, 1, 1, 1, 1, 1, 1, 1, 1, 1, 1, 1,\n",
              "       1, 1, 1, 1, 1, 1, 1, 1, 1, 1, 1, 1, 1, 1, 1, 1, 1, 1, 1, 1, 1, 1,\n",
              "       1, 1, 1, 1, 1, 1, 1, 1, 1, 1, 1, 1, 1, 1, 1, 1, 1, 1, 1, 1, 1, 1,\n",
              "       1, 1, 1, 1, 1, 1, 1, 1, 1, 1, 1, 1, 1, 1, 1, 1, 1, 1, 1, 1, 1, 1,\n",
              "       1, 1, 1, 1, 1, 1, 1, 1, 1, 1, 1, 1, 1, 1, 1, 1, 1, 1, 1, 1, 1, 1,\n",
              "       1, 1, 1, 1, 1, 1, 1, 1, 1, 1, 1, 1, 1, 1, 1, 1, 1, 1, 1, 1, 1, 1,\n",
              "       1, 0, 0, 0, 0, 0, 0, 0, 0, 0, 0, 0, 0, 0, 0, 0, 0, 0, 0, 0, 0, 0,\n",
              "       0, 0, 0, 0, 0, 0, 0, 0, 0, 0, 0, 0, 0, 0, 0, 0, 0, 0, 0, 0, 0, 0,\n",
              "       0, 0, 0, 0, 0, 0, 0, 0, 0, 0, 0, 0, 0, 0, 0, 0, 0, 0, 0, 0, 0, 0,\n",
              "       0, 0, 0, 0, 0, 0, 0, 0, 0, 0, 0, 0, 0, 0, 0, 0, 0, 0, 0, 0, 0, 0,\n",
              "       0, 0, 0, 0, 0, 0, 0, 0, 0, 0, 0])"
            ]
          },
          "metadata": {
            "tags": []
          },
          "execution_count": 18
        }
      ]
    },
    {
      "cell_type": "code",
      "metadata": {
        "trusted": true,
        "id": "iP-Q_hoJHJ2l",
        "colab_type": "code",
        "outputId": "3bdf4a66-dc40-4153-983d-009f594c12e4",
        "colab": {
          "base_uri": "https://localhost:8080/",
          "height": 833
        }
      },
      "source": [
        "data"
      ],
      "execution_count": 19,
      "outputs": [
        {
          "output_type": "execute_result",
          "data": {
            "text/plain": [
              "array(['Y1.jpg', 'Y101.jpg', 'Y10.jpg', 'Y100.JPG', 'Y102.jpg',\n",
              "       'Y105.jpg', 'Y103.jpg', 'Y107.jpg', 'Y106.jpg', 'Y104.jpg',\n",
              "       'Y112.JPG', 'Y114.JPG', 'Y116.JPG', 'Y109.JPG', 'Y108.jpg',\n",
              "       'Y117.JPG', 'Y113.JPG', 'Y11.jpg', 'Y111.JPG', 'Y115.JPG',\n",
              "       'Y12.jpg', 'Y13.jpg', 'Y153.jpg', 'Y154.jpg', 'Y14.jpg',\n",
              "       'Y120.JPG', 'Y15.jpg', 'Y148.JPG', 'Y146.JPG', 'Y147.JPG',\n",
              "       'Y155.JPG', 'Y156.JPG', 'Y157.JPG', 'Y161.JPG', 'Y160.JPG',\n",
              "       'Y16.JPG', 'Y158.JPG', 'Y159.JPG', 'Y163.JPG', 'Y162.jpg',\n",
              "       'Y164.JPG', 'Y167.JPG', 'Y166.JPG', 'Y17.jpg', 'Y180.jpg',\n",
              "       'Y170.JPG', 'Y168.jpg', 'Y165.JPG', 'Y169.jpg', 'Y18.JPG',\n",
              "       'Y181.jpg', 'Y192.JPG', 'Y185.jpg', 'Y182.JPG', 'Y186.jpg',\n",
              "       'Y19.JPG', 'Y184.JPG', 'Y183.jpg', 'Y188.jpg', 'Y187.jpg',\n",
              "       'Y2.jpg', 'Y242.JPG', 'Y20.jpg', 'Y21.jpg', 'Y193.JPG', 'Y195.JPG',\n",
              "       'Y24.jpg', 'Y22.jpg', 'Y194.jpg', 'Y23.JPG', 'Y247.JPG',\n",
              "       'Y245.jpg', 'Y246.JPG', 'Y243.JPG', 'Y25.jpg', 'Y251.JPG',\n",
              "       'Y248.JPG', 'Y250.jpg', 'Y244.JPG', 'Y249.JPG', 'Y252.jpg',\n",
              "       'Y259.JPG', 'Y257.jpg', 'Y258.JPG', 'Y256.JPG', 'Y255.JPG',\n",
              "       'Y253.JPG', 'Y254.jpg', 'Y26.jpg', 'Y27.jpg', 'Y35.jpg', 'Y29.jpg',\n",
              "       'Y28.jpg', 'Y34.jpg', 'Y33.jpg', 'Y36.JPG', 'Y32.jpg', 'Y30.jpg',\n",
              "       'Y31.jpg', 'Y3.jpg', 'Y38.jpg', 'Y39.jpg', 'Y37.jpg', 'Y46.jpg',\n",
              "       'Y41.jpg', 'Y4.jpg', 'Y42.jpg', 'Y44.JPG', 'Y45.JPG', 'Y40.JPG',\n",
              "       'Y53.jpg', 'Y49.JPG', 'Y47.JPG', 'Y54.jpg', 'Y58.JPG', 'Y55.jpg',\n",
              "       'Y51.jpg', 'Y52.jpg', 'Y56.jpg', 'Y50.JPG', 'Y59.JPG', 'Y66.JPG',\n",
              "       'Y62.jpg', 'Y69.jpg', 'Y60.jpg', 'Y67.JPG', 'Y6.jpg', 'Y7.jpg',\n",
              "       'Y65.JPG', 'Y61.jpg', 'Y70.jpg', 'Y74.jpg', 'Y76.jpg', 'Y78.jpg',\n",
              "       'Y73.jpg', 'Y71.JPG', 'Y75.JPG', 'Y77.jpg', 'Y8.jpg', 'Y79.jpg',\n",
              "       'Y81.jpg', 'Y86.JPG', 'Y92.jpg', 'Y89.JPG', 'Y92.png', 'Y82.jpg',\n",
              "       'Y85.JPG', 'Y91.jpg', 'Y90.jpg', 'Y9.jpg', 'Y95.jpg', 'Y98.JPG',\n",
              "       'Y99.JPG', 'Y97.JPG', 'Y96.jpg', '1 no.jpeg', '10 no.jpg',\n",
              "       '12 no.jpg', '13 no.jpg', '11 no.jpg', '14 no.jpg', '15 no.jpg',\n",
              "       '20 no.jpg', '18 no.jpg', '17 no.jpg', '23 no.jpg', '22 no.jpg',\n",
              "       '21 no.jpg', '19 no.jpg', '2 no.jpeg', '24 no.jpg', '28 no.jpg',\n",
              "       '32 no.jpg', '27 no.jpg', '31 no.jpg', '29 no.jpg', '3 no.jpg',\n",
              "       '26 no.jpg', '30 no.jpg', '25 no.jpg', '33 no.jpg', '36 no.jpg',\n",
              "       '41 no.jpg', '39 no.jpg', '38 no.jpg', '34 no.jpg', '4 no.jpg',\n",
              "       '37 no.jpg', '40 no.jpg', '35 no.jpg', '42 no.jpg', '47 no.jpg',\n",
              "       '45 no.jpg', '49 no.jpg', '43 no.jpg', '46 no.jpg', '5 no.jpg',\n",
              "       '50 no.jpg', '48 no.jpeg', '44no.jpg', '6 no.jpg', '7 no.jpg',\n",
              "       '8 no.jpg', 'N19.JPG', 'N16.jpg', 'N11.jpg', 'N1.JPG', '9 no.jpg',\n",
              "       'N17.jpg', 'N15.jpg', 'N2.JPG', 'N20.JPG', 'no 1.jpg', 'N3.jpg',\n",
              "       'N6.jpg', 'N26.JPG', 'N22.JPG', 'N5.jpg', 'no 10.jpg', 'N21.jpg',\n",
              "       'no 100.jpg', 'no 4.jpg', 'no 6.jpg', 'no 3.jpg', 'no 2.jpg',\n",
              "       'no 89.jpg', 'no 9.png', 'no 5.jpeg', 'no 8.jpg', 'no 7.jpeg',\n",
              "       'no 90.jpg', 'no 92.jpg', 'no 91.jpeg', 'no 94.jpg', 'no 99.jpg',\n",
              "       'no 923.jpg', 'no 95.jpg', 'no 98.jpg', 'no 96.jpg', 'no 97.jpg',\n",
              "       'No18.jpg', 'No12.jpg', 'No15.jpg', 'No11.jpg', 'No17.jpg',\n",
              "       'No13.jpg', 'no.jpg', 'No16.jpg', 'No14.jpg', 'No19.jpg',\n",
              "       'No20.jpg', 'No22.jpg', 'No21.jpg'], dtype='<U10')"
            ]
          },
          "metadata": {
            "tags": []
          },
          "execution_count": 19
        }
      ]
    },
    {
      "cell_type": "code",
      "metadata": {
        "trusted": true,
        "id": "3-CaBKLrHJ2m",
        "colab_type": "code",
        "colab": {}
      },
      "source": [
        "yes_values=os.listdir('brain_tumor_dataset/yes')\n",
        "no_values=os.listdir('brain_tumor_dataset/no')"
      ],
      "execution_count": 0,
      "outputs": []
    },
    {
      "cell_type": "code",
      "metadata": {
        "trusted": true,
        "id": "VJnIFujAHJ2p",
        "colab_type": "code",
        "colab": {}
      },
      "source": [
        "X_data =[]\n",
        "for file in yes_values:\n",
        "    #face = misc.imread('../input/brain_tumor_dataset/yes/'+file)\n",
        "    img = cv2.imread('brain_tumor_dataset/yes/'+file)\n",
        "    face = cv2.resize(img, (32, 32) )\n",
        "    (b, g, r)=cv2.split(face) \n",
        "    img=cv2.merge([r,g,b])\n",
        "    X_data.append(img)"
      ],
      "execution_count": 0,
      "outputs": []
    },
    {
      "cell_type": "code",
      "metadata": {
        "trusted": true,
        "id": "hsP-IGZUHJ2r",
        "colab_type": "code",
        "colab": {}
      },
      "source": [
        "#X_data =[]\n",
        "for file in no_values:\n",
        "    #face = misc.imread('../input/brain_tumor_dataset/yes/'+file)\n",
        "    img = cv2.imread('brain_tumor_dataset/no/'+file)\n",
        "    face = cv2.resize(img, (32, 32) )\n",
        "    (b, g, r)=cv2.split(face) \n",
        "    img=cv2.merge([r,g,b])\n",
        "    X_data.append(img)"
      ],
      "execution_count": 0,
      "outputs": []
    },
    {
      "cell_type": "code",
      "metadata": {
        "trusted": true,
        "id": "5kYyz0MZHJ2t",
        "colab_type": "code",
        "outputId": "f9e9f103-76a2-437f-c605-be16bf890eb1",
        "colab": {
          "base_uri": "https://localhost:8080/",
          "height": 34
        }
      },
      "source": [
        "len(X_data)==len(data)==len(data_target)"
      ],
      "execution_count": 24,
      "outputs": [
        {
          "output_type": "execute_result",
          "data": {
            "text/plain": [
              "False"
            ]
          },
          "metadata": {
            "tags": []
          },
          "execution_count": 24
        }
      ]
    },
    {
      "cell_type": "code",
      "metadata": {
        "trusted": true,
        "id": "zQvSlt7RHJ2v",
        "colab_type": "code",
        "colab": {}
      },
      "source": [
        "X = np.squeeze(X_data)\n"
      ],
      "execution_count": 0,
      "outputs": []
    },
    {
      "cell_type": "code",
      "metadata": {
        "trusted": true,
        "id": "jd3I9Cg6HJ2x",
        "colab_type": "code",
        "outputId": "8dfcc86a-76c5-439c-fb48-55db566ff8d4",
        "colab": {
          "base_uri": "https://localhost:8080/",
          "height": 34
        }
      },
      "source": [
        "X.shape\n"
      ],
      "execution_count": 26,
      "outputs": [
        {
          "output_type": "execute_result",
          "data": {
            "text/plain": [
              "(351, 32, 32, 3)"
            ]
          },
          "metadata": {
            "tags": []
          },
          "execution_count": 26
        }
      ]
    },
    {
      "cell_type": "code",
      "metadata": {
        "trusted": true,
        "id": "Q80_7CZFHJ21",
        "colab_type": "code",
        "colab": {}
      },
      "source": [
        "# normalize data\n",
        "X = X.astype('float32')\n",
        "X /= 255"
      ],
      "execution_count": 0,
      "outputs": []
    },
    {
      "cell_type": "code",
      "metadata": {
        "trusted": true,
        "id": "6Ih58cDRHJ23",
        "colab_type": "code",
        "colab": {}
      },
      "source": [
        "#categorical_labels = to_categorical(data_target, num_classes=2)\n"
      ],
      "execution_count": 0,
      "outputs": []
    },
    {
      "cell_type": "code",
      "metadata": {
        "trusted": true,
        "id": "-FxX9cDDHJ25",
        "colab_type": "code",
        "outputId": "d6bbd1a0-5507-4e98-b84a-262cd188359f",
        "colab": {
          "base_uri": "https://localhost:8080/",
          "height": 221
        }
      },
      "source": [
        "data_target"
      ],
      "execution_count": 28,
      "outputs": [
        {
          "output_type": "execute_result",
          "data": {
            "text/plain": [
              "array([1, 1, 1, 1, 1, 1, 1, 1, 1, 1, 1, 1, 1, 1, 1, 1, 1, 1, 1, 1, 1, 1,\n",
              "       1, 1, 1, 1, 1, 1, 1, 1, 1, 1, 1, 1, 1, 1, 1, 1, 1, 1, 1, 1, 1, 1,\n",
              "       1, 1, 1, 1, 1, 1, 1, 1, 1, 1, 1, 1, 1, 1, 1, 1, 1, 1, 1, 1, 1, 1,\n",
              "       1, 1, 1, 1, 1, 1, 1, 1, 1, 1, 1, 1, 1, 1, 1, 1, 1, 1, 1, 1, 1, 1,\n",
              "       1, 1, 1, 1, 1, 1, 1, 1, 1, 1, 1, 1, 1, 1, 1, 1, 1, 1, 1, 1, 1, 1,\n",
              "       1, 1, 1, 1, 1, 1, 1, 1, 1, 1, 1, 1, 1, 1, 1, 1, 1, 1, 1, 1, 1, 1,\n",
              "       1, 1, 1, 1, 1, 1, 1, 1, 1, 1, 1, 1, 1, 1, 1, 1, 1, 1, 1, 1, 1, 1,\n",
              "       1, 0, 0, 0, 0, 0, 0, 0, 0, 0, 0, 0, 0, 0, 0, 0, 0, 0, 0, 0, 0, 0,\n",
              "       0, 0, 0, 0, 0, 0, 0, 0, 0, 0, 0, 0, 0, 0, 0, 0, 0, 0, 0, 0, 0, 0,\n",
              "       0, 0, 0, 0, 0, 0, 0, 0, 0, 0, 0, 0, 0, 0, 0, 0, 0, 0, 0, 0, 0, 0,\n",
              "       0, 0, 0, 0, 0, 0, 0, 0, 0, 0, 0, 0, 0, 0, 0, 0, 0, 0, 0, 0, 0, 0,\n",
              "       0, 0, 0, 0, 0, 0, 0, 0, 0, 0, 0])"
            ]
          },
          "metadata": {
            "tags": []
          },
          "execution_count": 28
        }
      ]
    },
    {
      "cell_type": "code",
      "metadata": {
        "trusted": true,
        "id": "c_boyts6HJ26",
        "colab_type": "code",
        "colab": {}
      },
      "source": [
        "(x_train, y_train), (x_test, y_test) = (X[:190],data_target[:190]) , (X[190:] , data_target[190:])\n",
        "(x_valid , y_valid) = (x_test[:63], y_test[:63])\n",
        "#(x_test, y_test) = (x_test[63:], y_test[63:])"
      ],
      "execution_count": 0,
      "outputs": []
    },
    {
      "cell_type": "code",
      "metadata": {
        "trusted": true,
        "id": "XIlfSYSMHJ28",
        "colab_type": "code",
        "outputId": "98b71400-83aa-4c24-ed3d-f848dd9be029",
        "colab": {
          "base_uri": "https://localhost:8080/",
          "height": 595
        }
      },
      "source": [
        "model = tf.keras.Sequential()\n",
        "\n",
        "# Must define the input shape in the first layer of the neural network\n",
        "model.add(tf.keras.layers.Conv2D(filters=16,kernel_size=9, padding='same', activation='relu', input_shape=(32,32,3))) \n",
        "model.add(tf.keras.layers.MaxPooling2D(pool_size=2))\n",
        "model.add(tf.keras.layers.Dropout(0.45))\n",
        "\n",
        "model.add(tf.keras.layers.Conv2D(filters=16,kernel_size=9,padding='same', activation='relu'))\n",
        "model.add(tf.keras.layers.MaxPooling2D(pool_size=2))\n",
        "model.add(tf.keras.layers.Dropout(0.25))  # dropout serve para jogar fora neuronios que não forma ativados\n",
        "\n",
        "model.add(tf.keras.layers.Conv2D(filters=36, kernel_size=9, padding='same', activation='relu'))\n",
        "model.add(tf.keras.layers.MaxPooling2D(pool_size=2))\n",
        "model.add(tf.keras.layers.Dropout(0.25))\n",
        "\n",
        "model.add(tf.keras.layers.Flatten()) # é para transformar a matriz num vetor vertical\n",
        "\n",
        "model.add(tf.keras.layers.Dense(512, activation='relu')) # aqui é uma camada de 512 neuronios\n",
        "model.add(tf.keras.layers.Dropout(0.15))\n",
        "\n",
        "\n",
        "model.add(tf.keras.layers.Dense(1, activation='sigmoid')) # na ultima camada usa-se a sigmoide\n",
        "\n",
        "# Take a look at the model summary\n",
        "model.summary()"
      ],
      "execution_count": 31,
      "outputs": [
        {
          "output_type": "stream",
          "text": [
            "Model: \"sequential_1\"\n",
            "_________________________________________________________________\n",
            "Layer (type)                 Output Shape              Param #   \n",
            "=================================================================\n",
            "conv2d_3 (Conv2D)            (None, 32, 32, 16)        3904      \n",
            "_________________________________________________________________\n",
            "max_pooling2d_3 (MaxPooling2 (None, 16, 16, 16)        0         \n",
            "_________________________________________________________________\n",
            "dropout_4 (Dropout)          (None, 16, 16, 16)        0         \n",
            "_________________________________________________________________\n",
            "conv2d_4 (Conv2D)            (None, 16, 16, 16)        20752     \n",
            "_________________________________________________________________\n",
            "max_pooling2d_4 (MaxPooling2 (None, 8, 8, 16)          0         \n",
            "_________________________________________________________________\n",
            "dropout_5 (Dropout)          (None, 8, 8, 16)          0         \n",
            "_________________________________________________________________\n",
            "conv2d_5 (Conv2D)            (None, 8, 8, 36)          46692     \n",
            "_________________________________________________________________\n",
            "max_pooling2d_5 (MaxPooling2 (None, 4, 4, 36)          0         \n",
            "_________________________________________________________________\n",
            "dropout_6 (Dropout)          (None, 4, 4, 36)          0         \n",
            "_________________________________________________________________\n",
            "flatten_1 (Flatten)          (None, 576)               0         \n",
            "_________________________________________________________________\n",
            "dense_2 (Dense)              (None, 512)               295424    \n",
            "_________________________________________________________________\n",
            "dropout_7 (Dropout)          (None, 512)               0         \n",
            "_________________________________________________________________\n",
            "dense_3 (Dense)              (None, 1)                 513       \n",
            "=================================================================\n",
            "Total params: 367,285\n",
            "Trainable params: 367,285\n",
            "Non-trainable params: 0\n",
            "_________________________________________________________________\n"
          ],
          "name": "stdout"
        }
      ]
    },
    {
      "cell_type": "code",
      "metadata": {
        "trusted": true,
        "id": "K_nbu-73HJ2-",
        "colab_type": "code",
        "colab": {}
      },
      "source": [
        "model.compile(loss='binary_crossentropy',\n",
        "             optimizer=tf.keras.optimizers.Adam(),\n",
        "             metrics=['acc'])"
      ],
      "execution_count": 0,
      "outputs": []
    },
    {
      "cell_type": "code",
      "metadata": {
        "trusted": true,
        "id": "urusTo3FHJ2_",
        "colab_type": "code",
        "outputId": "91263cbd-19e3-4afe-8cb4-393e84c04a63",
        "colab": {
          "base_uri": "https://localhost:8080/",
          "height": 1000
        }
      },
      "source": [
        "model.fit(x_train,\n",
        "         y_train,\n",
        "         batch_size=128,\n",
        "         epochs=150,\n",
        "         validation_data=(x_valid, y_valid),)"
      ],
      "execution_count": 33,
      "outputs": [
        {
          "output_type": "stream",
          "text": [
            "Epoch 1/150\n",
            "2/2 [==============================] - 1s 272ms/step - loss: 0.5669 - acc: 0.8105 - val_loss: 1.0889 - val_acc: 0.0000e+00\n",
            "Epoch 2/150\n",
            "2/2 [==============================] - 0s 188ms/step - loss: 0.4846 - acc: 0.8158 - val_loss: 0.8840 - val_acc: 0.0000e+00\n",
            "Epoch 3/150\n",
            "2/2 [==============================] - 0s 201ms/step - loss: 0.4890 - acc: 0.8158 - val_loss: 0.9590 - val_acc: 0.0000e+00\n",
            "Epoch 4/150\n",
            "2/2 [==============================] - 0s 192ms/step - loss: 0.4721 - acc: 0.8158 - val_loss: 1.2019 - val_acc: 0.0000e+00\n",
            "Epoch 5/150\n",
            "2/2 [==============================] - 0s 190ms/step - loss: 0.4773 - acc: 0.8158 - val_loss: 1.0540 - val_acc: 0.0000e+00\n",
            "Epoch 6/150\n",
            "2/2 [==============================] - 0s 184ms/step - loss: 0.4546 - acc: 0.8158 - val_loss: 0.9373 - val_acc: 0.0000e+00\n",
            "Epoch 7/150\n",
            "2/2 [==============================] - 0s 187ms/step - loss: 0.4622 - acc: 0.8158 - val_loss: 1.0119 - val_acc: 0.0000e+00\n",
            "Epoch 8/150\n",
            "2/2 [==============================] - 0s 184ms/step - loss: 0.4753 - acc: 0.8158 - val_loss: 1.0833 - val_acc: 0.0000e+00\n",
            "Epoch 9/150\n",
            "2/2 [==============================] - 0s 189ms/step - loss: 0.4369 - acc: 0.8158 - val_loss: 0.9668 - val_acc: 0.0000e+00\n",
            "Epoch 10/150\n",
            "2/2 [==============================] - 0s 190ms/step - loss: 0.4431 - acc: 0.8158 - val_loss: 0.9765 - val_acc: 0.0000e+00\n",
            "Epoch 11/150\n",
            "2/2 [==============================] - 0s 186ms/step - loss: 0.4610 - acc: 0.8158 - val_loss: 1.0068 - val_acc: 0.0000e+00\n",
            "Epoch 12/150\n",
            "2/2 [==============================] - 0s 184ms/step - loss: 0.4358 - acc: 0.8158 - val_loss: 0.9181 - val_acc: 0.0000e+00\n",
            "Epoch 13/150\n",
            "2/2 [==============================] - 0s 190ms/step - loss: 0.4450 - acc: 0.8158 - val_loss: 0.9170 - val_acc: 0.0000e+00\n",
            "Epoch 14/150\n",
            "2/2 [==============================] - 0s 205ms/step - loss: 0.4467 - acc: 0.8158 - val_loss: 0.8835 - val_acc: 0.0000e+00\n",
            "Epoch 15/150\n",
            "2/2 [==============================] - 0s 190ms/step - loss: 0.4151 - acc: 0.8158 - val_loss: 0.9019 - val_acc: 0.0000e+00\n",
            "Epoch 16/150\n",
            "2/2 [==============================] - 0s 192ms/step - loss: 0.4426 - acc: 0.8158 - val_loss: 0.9152 - val_acc: 0.0000e+00\n",
            "Epoch 17/150\n",
            "2/2 [==============================] - 0s 189ms/step - loss: 0.4291 - acc: 0.8158 - val_loss: 0.7860 - val_acc: 0.1429\n",
            "Epoch 18/150\n",
            "2/2 [==============================] - 0s 187ms/step - loss: 0.4256 - acc: 0.8211 - val_loss: 0.8314 - val_acc: 0.1587\n",
            "Epoch 19/150\n",
            "2/2 [==============================] - 0s 187ms/step - loss: 0.4030 - acc: 0.8211 - val_loss: 0.9438 - val_acc: 0.1429\n",
            "Epoch 20/150\n",
            "2/2 [==============================] - 0s 195ms/step - loss: 0.4095 - acc: 0.8211 - val_loss: 0.7803 - val_acc: 0.4286\n",
            "Epoch 21/150\n",
            "2/2 [==============================] - 0s 186ms/step - loss: 0.4265 - acc: 0.8368 - val_loss: 0.8165 - val_acc: 0.3968\n",
            "Epoch 22/150\n",
            "2/2 [==============================] - 0s 190ms/step - loss: 0.3907 - acc: 0.8368 - val_loss: 0.9838 - val_acc: 0.1587\n",
            "Epoch 23/150\n",
            "2/2 [==============================] - 0s 186ms/step - loss: 0.4042 - acc: 0.8263 - val_loss: 0.8842 - val_acc: 0.3333\n",
            "Epoch 24/150\n",
            "2/2 [==============================] - 0s 191ms/step - loss: 0.3955 - acc: 0.8316 - val_loss: 0.7735 - val_acc: 0.5238\n",
            "Epoch 25/150\n",
            "2/2 [==============================] - 0s 190ms/step - loss: 0.4112 - acc: 0.8316 - val_loss: 0.9420 - val_acc: 0.2698\n",
            "Epoch 26/150\n",
            "2/2 [==============================] - 0s 191ms/step - loss: 0.4387 - acc: 0.8526 - val_loss: 1.0084 - val_acc: 0.2222\n",
            "Epoch 27/150\n",
            "2/2 [==============================] - 0s 190ms/step - loss: 0.3602 - acc: 0.8474 - val_loss: 0.8460 - val_acc: 0.4444\n",
            "Epoch 28/150\n",
            "2/2 [==============================] - 0s 190ms/step - loss: 0.3891 - acc: 0.8368 - val_loss: 1.0020 - val_acc: 0.2698\n",
            "Epoch 29/150\n",
            "2/2 [==============================] - 0s 194ms/step - loss: 0.3989 - acc: 0.8579 - val_loss: 1.1647 - val_acc: 0.1587\n",
            "Epoch 30/150\n",
            "2/2 [==============================] - 0s 190ms/step - loss: 0.3634 - acc: 0.8526 - val_loss: 0.9535 - val_acc: 0.4127\n",
            "Epoch 31/150\n",
            "2/2 [==============================] - 0s 186ms/step - loss: 0.3745 - acc: 0.8526 - val_loss: 0.9222 - val_acc: 0.4444\n",
            "Epoch 32/150\n",
            "2/2 [==============================] - 0s 189ms/step - loss: 0.3740 - acc: 0.8421 - val_loss: 1.0036 - val_acc: 0.4286\n",
            "Epoch 33/150\n",
            "2/2 [==============================] - 0s 185ms/step - loss: 0.3437 - acc: 0.8579 - val_loss: 1.0441 - val_acc: 0.4286\n",
            "Epoch 34/150\n",
            "2/2 [==============================] - 0s 192ms/step - loss: 0.3123 - acc: 0.8684 - val_loss: 1.0533 - val_acc: 0.4444\n",
            "Epoch 35/150\n",
            "2/2 [==============================] - 0s 191ms/step - loss: 0.3592 - acc: 0.8789 - val_loss: 0.9458 - val_acc: 0.5397\n",
            "Epoch 36/150\n",
            "2/2 [==============================] - 0s 196ms/step - loss: 0.3229 - acc: 0.8526 - val_loss: 1.0702 - val_acc: 0.3968\n",
            "Epoch 37/150\n",
            "2/2 [==============================] - 0s 191ms/step - loss: 0.2848 - acc: 0.8842 - val_loss: 1.2829 - val_acc: 0.3333\n",
            "Epoch 38/150\n",
            "2/2 [==============================] - 0s 191ms/step - loss: 0.3134 - acc: 0.8632 - val_loss: 0.9260 - val_acc: 0.6349\n",
            "Epoch 39/150\n",
            "2/2 [==============================] - 0s 197ms/step - loss: 0.3224 - acc: 0.8579 - val_loss: 1.2418 - val_acc: 0.3968\n",
            "Epoch 40/150\n",
            "2/2 [==============================] - 0s 189ms/step - loss: 0.3148 - acc: 0.8632 - val_loss: 1.1059 - val_acc: 0.4127\n",
            "Epoch 41/150\n",
            "2/2 [==============================] - 0s 192ms/step - loss: 0.3173 - acc: 0.8737 - val_loss: 0.9383 - val_acc: 0.6032\n",
            "Epoch 42/150\n",
            "2/2 [==============================] - 0s 189ms/step - loss: 0.3154 - acc: 0.8842 - val_loss: 1.1225 - val_acc: 0.5556\n",
            "Epoch 43/150\n",
            "2/2 [==============================] - 0s 190ms/step - loss: 0.2776 - acc: 0.8842 - val_loss: 1.4021 - val_acc: 0.4603\n",
            "Epoch 44/150\n",
            "2/2 [==============================] - 0s 188ms/step - loss: 0.2619 - acc: 0.8842 - val_loss: 1.1284 - val_acc: 0.5714\n",
            "Epoch 45/150\n",
            "2/2 [==============================] - 0s 194ms/step - loss: 0.2495 - acc: 0.9105 - val_loss: 1.0010 - val_acc: 0.6508\n",
            "Epoch 46/150\n",
            "2/2 [==============================] - 0s 188ms/step - loss: 0.2476 - acc: 0.8789 - val_loss: 1.4609 - val_acc: 0.4127\n",
            "Epoch 47/150\n",
            "2/2 [==============================] - 0s 191ms/step - loss: 0.2550 - acc: 0.8842 - val_loss: 0.9006 - val_acc: 0.6825\n",
            "Epoch 48/150\n",
            "2/2 [==============================] - 0s 195ms/step - loss: 0.2413 - acc: 0.9053 - val_loss: 1.6673 - val_acc: 0.3492\n",
            "Epoch 49/150\n",
            "2/2 [==============================] - 0s 189ms/step - loss: 0.3249 - acc: 0.8789 - val_loss: 1.3644 - val_acc: 0.4921\n",
            "Epoch 50/150\n",
            "2/2 [==============================] - 0s 192ms/step - loss: 0.2995 - acc: 0.8789 - val_loss: 1.0792 - val_acc: 0.6667\n",
            "Epoch 51/150\n",
            "2/2 [==============================] - 0s 192ms/step - loss: 0.2486 - acc: 0.9105 - val_loss: 1.6825 - val_acc: 0.3651\n",
            "Epoch 52/150\n",
            "2/2 [==============================] - 0s 190ms/step - loss: 0.2531 - acc: 0.9000 - val_loss: 1.3465 - val_acc: 0.5714\n",
            "Epoch 53/150\n",
            "2/2 [==============================] - 0s 186ms/step - loss: 0.2339 - acc: 0.9158 - val_loss: 1.0150 - val_acc: 0.6984\n",
            "Epoch 54/150\n",
            "2/2 [==============================] - 0s 186ms/step - loss: 0.2057 - acc: 0.9105 - val_loss: 1.4319 - val_acc: 0.5238\n",
            "Epoch 55/150\n",
            "2/2 [==============================] - 0s 186ms/step - loss: 0.2159 - acc: 0.9211 - val_loss: 1.1991 - val_acc: 0.6984\n",
            "Epoch 56/150\n",
            "2/2 [==============================] - 0s 187ms/step - loss: 0.1876 - acc: 0.9474 - val_loss: 1.3420 - val_acc: 0.6667\n",
            "Epoch 57/150\n",
            "2/2 [==============================] - 0s 188ms/step - loss: 0.1792 - acc: 0.9316 - val_loss: 1.2092 - val_acc: 0.6508\n",
            "Epoch 58/150\n",
            "2/2 [==============================] - 0s 194ms/step - loss: 0.2038 - acc: 0.9211 - val_loss: 1.4886 - val_acc: 0.5873\n",
            "Epoch 59/150\n",
            "2/2 [==============================] - 0s 190ms/step - loss: 0.2050 - acc: 0.9263 - val_loss: 1.1613 - val_acc: 0.6984\n",
            "Epoch 60/150\n",
            "2/2 [==============================] - 0s 195ms/step - loss: 0.2021 - acc: 0.9263 - val_loss: 1.2533 - val_acc: 0.6984\n",
            "Epoch 61/150\n",
            "2/2 [==============================] - 0s 192ms/step - loss: 0.2036 - acc: 0.9421 - val_loss: 1.9752 - val_acc: 0.3968\n",
            "Epoch 62/150\n",
            "2/2 [==============================] - 0s 194ms/step - loss: 0.1721 - acc: 0.9000 - val_loss: 1.2793 - val_acc: 0.7143\n",
            "Epoch 63/150\n",
            "2/2 [==============================] - 0s 191ms/step - loss: 0.2023 - acc: 0.9158 - val_loss: 1.5867 - val_acc: 0.6508\n",
            "Epoch 64/150\n",
            "2/2 [==============================] - 0s 187ms/step - loss: 0.1719 - acc: 0.9421 - val_loss: 1.8035 - val_acc: 0.3810\n",
            "Epoch 65/150\n",
            "2/2 [==============================] - 0s 188ms/step - loss: 0.1710 - acc: 0.9053 - val_loss: 1.2139 - val_acc: 0.6984\n",
            "Epoch 66/150\n",
            "2/2 [==============================] - 0s 191ms/step - loss: 0.1854 - acc: 0.9211 - val_loss: 1.5145 - val_acc: 0.6508\n",
            "Epoch 67/150\n",
            "2/2 [==============================] - 0s 191ms/step - loss: 0.2354 - acc: 0.9368 - val_loss: 1.5039 - val_acc: 0.6667\n",
            "Epoch 68/150\n",
            "2/2 [==============================] - 0s 188ms/step - loss: 0.1239 - acc: 0.9789 - val_loss: 1.3523 - val_acc: 0.6349\n",
            "Epoch 69/150\n",
            "2/2 [==============================] - 0s 189ms/step - loss: 0.1454 - acc: 0.9421 - val_loss: 1.6099 - val_acc: 0.5873\n",
            "Epoch 70/150\n",
            "2/2 [==============================] - 0s 183ms/step - loss: 0.1282 - acc: 0.9474 - val_loss: 1.4663 - val_acc: 0.6349\n",
            "Epoch 71/150\n",
            "2/2 [==============================] - 0s 196ms/step - loss: 0.1068 - acc: 0.9632 - val_loss: 1.3477 - val_acc: 0.7302\n",
            "Epoch 72/150\n",
            "2/2 [==============================] - 0s 189ms/step - loss: 0.1109 - acc: 0.9421 - val_loss: 2.0273 - val_acc: 0.6508\n",
            "Epoch 73/150\n",
            "2/2 [==============================] - 0s 193ms/step - loss: 0.0939 - acc: 0.9474 - val_loss: 1.8190 - val_acc: 0.6667\n",
            "Epoch 74/150\n",
            "2/2 [==============================] - 0s 190ms/step - loss: 0.1338 - acc: 0.9579 - val_loss: 1.6491 - val_acc: 0.6825\n",
            "Epoch 75/150\n",
            "2/2 [==============================] - 0s 187ms/step - loss: 0.1055 - acc: 0.9368 - val_loss: 1.8137 - val_acc: 0.5714\n",
            "Epoch 76/150\n",
            "2/2 [==============================] - 0s 187ms/step - loss: 0.0966 - acc: 0.9526 - val_loss: 1.3542 - val_acc: 0.7143\n",
            "Epoch 77/150\n",
            "2/2 [==============================] - 0s 191ms/step - loss: 0.0744 - acc: 0.9842 - val_loss: 1.6102 - val_acc: 0.6825\n",
            "Epoch 78/150\n",
            "2/2 [==============================] - 0s 187ms/step - loss: 0.1080 - acc: 0.9632 - val_loss: 2.0836 - val_acc: 0.6032\n",
            "Epoch 79/150\n",
            "2/2 [==============================] - 0s 185ms/step - loss: 0.1355 - acc: 0.9684 - val_loss: 1.6508 - val_acc: 0.6984\n",
            "Epoch 80/150\n",
            "2/2 [==============================] - 0s 190ms/step - loss: 0.0678 - acc: 0.9737 - val_loss: 1.4928 - val_acc: 0.7143\n",
            "Epoch 81/150\n",
            "2/2 [==============================] - 0s 185ms/step - loss: 0.0973 - acc: 0.9737 - val_loss: 1.9814 - val_acc: 0.5397\n",
            "Epoch 82/150\n",
            "2/2 [==============================] - 0s 190ms/step - loss: 0.1100 - acc: 0.9632 - val_loss: 1.3040 - val_acc: 0.7460\n",
            "Epoch 83/150\n",
            "2/2 [==============================] - 0s 189ms/step - loss: 0.1152 - acc: 0.9632 - val_loss: 1.6548 - val_acc: 0.7143\n",
            "Epoch 84/150\n",
            "2/2 [==============================] - 0s 191ms/step - loss: 0.0579 - acc: 0.9737 - val_loss: 2.8284 - val_acc: 0.5397\n",
            "Epoch 85/150\n",
            "2/2 [==============================] - 0s 195ms/step - loss: 0.0969 - acc: 0.9474 - val_loss: 2.4886 - val_acc: 0.5556\n",
            "Epoch 86/150\n",
            "2/2 [==============================] - 0s 192ms/step - loss: 0.0891 - acc: 0.9526 - val_loss: 1.5689 - val_acc: 0.7143\n",
            "Epoch 87/150\n",
            "2/2 [==============================] - 0s 187ms/step - loss: 0.0629 - acc: 0.9789 - val_loss: 1.4262 - val_acc: 0.7143\n",
            "Epoch 88/150\n",
            "2/2 [==============================] - 0s 188ms/step - loss: 0.0705 - acc: 0.9842 - val_loss: 1.8041 - val_acc: 0.6032\n",
            "Epoch 89/150\n",
            "2/2 [==============================] - 0s 189ms/step - loss: 0.0717 - acc: 0.9737 - val_loss: 1.6618 - val_acc: 0.6825\n",
            "Epoch 90/150\n",
            "2/2 [==============================] - 0s 189ms/step - loss: 0.0543 - acc: 0.9895 - val_loss: 1.7637 - val_acc: 0.6825\n",
            "Epoch 91/150\n",
            "2/2 [==============================] - 0s 185ms/step - loss: 0.0423 - acc: 0.9895 - val_loss: 2.4458 - val_acc: 0.6190\n",
            "Epoch 92/150\n",
            "2/2 [==============================] - 0s 187ms/step - loss: 0.0675 - acc: 0.9579 - val_loss: 1.8563 - val_acc: 0.7143\n",
            "Epoch 93/150\n",
            "2/2 [==============================] - 0s 191ms/step - loss: 0.1029 - acc: 0.9579 - val_loss: 1.7483 - val_acc: 0.7143\n",
            "Epoch 94/150\n",
            "2/2 [==============================] - 0s 189ms/step - loss: 0.0513 - acc: 0.9789 - val_loss: 2.5264 - val_acc: 0.5079\n",
            "Epoch 95/150\n",
            "2/2 [==============================] - 0s 188ms/step - loss: 0.1016 - acc: 0.9474 - val_loss: 1.7945 - val_acc: 0.6667\n",
            "Epoch 96/150\n",
            "2/2 [==============================] - 0s 195ms/step - loss: 0.0602 - acc: 0.9895 - val_loss: 1.6260 - val_acc: 0.7302\n",
            "Epoch 97/150\n",
            "2/2 [==============================] - 0s 190ms/step - loss: 0.0548 - acc: 0.9842 - val_loss: 2.1909 - val_acc: 0.6825\n",
            "Epoch 98/150\n",
            "2/2 [==============================] - 0s 183ms/step - loss: 0.0452 - acc: 0.9789 - val_loss: 2.9673 - val_acc: 0.5556\n",
            "Epoch 99/150\n",
            "2/2 [==============================] - 0s 192ms/step - loss: 0.0731 - acc: 0.9895 - val_loss: 2.6904 - val_acc: 0.6349\n",
            "Epoch 100/150\n",
            "2/2 [==============================] - 0s 184ms/step - loss: 0.0352 - acc: 0.9842 - val_loss: 2.3760 - val_acc: 0.6825\n",
            "Epoch 101/150\n",
            "2/2 [==============================] - 0s 187ms/step - loss: 0.0610 - acc: 0.9684 - val_loss: 2.6355 - val_acc: 0.6190\n",
            "Epoch 102/150\n",
            "2/2 [==============================] - 0s 187ms/step - loss: 0.0818 - acc: 0.9632 - val_loss: 2.1733 - val_acc: 0.6667\n",
            "Epoch 103/150\n",
            "2/2 [==============================] - 0s 184ms/step - loss: 0.0553 - acc: 0.9737 - val_loss: 2.2471 - val_acc: 0.6825\n",
            "Epoch 104/150\n",
            "2/2 [==============================] - 0s 190ms/step - loss: 0.0342 - acc: 0.9789 - val_loss: 2.1780 - val_acc: 0.6984\n",
            "Epoch 105/150\n",
            "2/2 [==============================] - 0s 193ms/step - loss: 0.0643 - acc: 0.9842 - val_loss: 2.2055 - val_acc: 0.6825\n",
            "Epoch 106/150\n",
            "2/2 [==============================] - 0s 194ms/step - loss: 0.0244 - acc: 0.9895 - val_loss: 2.1366 - val_acc: 0.7143\n",
            "Epoch 107/150\n",
            "2/2 [==============================] - 0s 192ms/step - loss: 0.0373 - acc: 0.9895 - val_loss: 2.4343 - val_acc: 0.6508\n",
            "Epoch 108/150\n",
            "2/2 [==============================] - 0s 194ms/step - loss: 0.0506 - acc: 0.9789 - val_loss: 2.0777 - val_acc: 0.6984\n",
            "Epoch 109/150\n",
            "2/2 [==============================] - 0s 194ms/step - loss: 0.0291 - acc: 0.9947 - val_loss: 1.6909 - val_acc: 0.7778\n",
            "Epoch 110/150\n",
            "2/2 [==============================] - 0s 187ms/step - loss: 0.0371 - acc: 0.9895 - val_loss: 2.3635 - val_acc: 0.6667\n",
            "Epoch 111/150\n",
            "2/2 [==============================] - 0s 188ms/step - loss: 0.0374 - acc: 0.9842 - val_loss: 3.3292 - val_acc: 0.5238\n",
            "Epoch 112/150\n",
            "2/2 [==============================] - 0s 190ms/step - loss: 0.0579 - acc: 0.9789 - val_loss: 2.2072 - val_acc: 0.7302\n",
            "Epoch 113/150\n",
            "2/2 [==============================] - 0s 189ms/step - loss: 0.0415 - acc: 0.9895 - val_loss: 2.1568 - val_acc: 0.7460\n",
            "Epoch 114/150\n",
            "2/2 [==============================] - 0s 187ms/step - loss: 0.0190 - acc: 0.9947 - val_loss: 3.1653 - val_acc: 0.5556\n",
            "Epoch 115/150\n",
            "2/2 [==============================] - 0s 188ms/step - loss: 0.0713 - acc: 0.9737 - val_loss: 2.4625 - val_acc: 0.6508\n",
            "Epoch 116/150\n",
            "2/2 [==============================] - 0s 192ms/step - loss: 0.0246 - acc: 0.9895 - val_loss: 1.9811 - val_acc: 0.7619\n",
            "Epoch 117/150\n",
            "2/2 [==============================] - 0s 190ms/step - loss: 0.0457 - acc: 0.9895 - val_loss: 2.3012 - val_acc: 0.7302\n",
            "Epoch 118/150\n",
            "2/2 [==============================] - 0s 193ms/step - loss: 0.0246 - acc: 0.9947 - val_loss: 3.0349 - val_acc: 0.6032\n",
            "Epoch 119/150\n",
            "2/2 [==============================] - 0s 190ms/step - loss: 0.0289 - acc: 0.9895 - val_loss: 3.0706 - val_acc: 0.6032\n",
            "Epoch 120/150\n",
            "2/2 [==============================] - 0s 192ms/step - loss: 0.0218 - acc: 0.9895 - val_loss: 2.3808 - val_acc: 0.7143\n",
            "Epoch 121/150\n",
            "2/2 [==============================] - 0s 184ms/step - loss: 0.0309 - acc: 0.9842 - val_loss: 2.1097 - val_acc: 0.7143\n",
            "Epoch 122/150\n",
            "2/2 [==============================] - 0s 183ms/step - loss: 0.0557 - acc: 0.9789 - val_loss: 2.4154 - val_acc: 0.6825\n",
            "Epoch 123/150\n",
            "2/2 [==============================] - 0s 187ms/step - loss: 0.0279 - acc: 0.9947 - val_loss: 2.7611 - val_acc: 0.6190\n",
            "Epoch 124/150\n",
            "2/2 [==============================] - 0s 186ms/step - loss: 0.0468 - acc: 0.9789 - val_loss: 2.4001 - val_acc: 0.6825\n",
            "Epoch 125/150\n",
            "2/2 [==============================] - 0s 185ms/step - loss: 0.0373 - acc: 0.9789 - val_loss: 2.1801 - val_acc: 0.7143\n",
            "Epoch 126/150\n",
            "2/2 [==============================] - 0s 186ms/step - loss: 0.0244 - acc: 0.9895 - val_loss: 2.5625 - val_acc: 0.6349\n",
            "Epoch 127/150\n",
            "2/2 [==============================] - 0s 185ms/step - loss: 0.0173 - acc: 0.9947 - val_loss: 2.7083 - val_acc: 0.6349\n",
            "Epoch 128/150\n",
            "2/2 [==============================] - 0s 190ms/step - loss: 0.0194 - acc: 0.9842 - val_loss: 2.5890 - val_acc: 0.6825\n",
            "Epoch 129/150\n",
            "2/2 [==============================] - 0s 190ms/step - loss: 0.0265 - acc: 0.9947 - val_loss: 2.6204 - val_acc: 0.6508\n",
            "Epoch 130/150\n",
            "2/2 [==============================] - 0s 191ms/step - loss: 0.0329 - acc: 0.9895 - val_loss: 2.5987 - val_acc: 0.6508\n",
            "Epoch 131/150\n",
            "2/2 [==============================] - 0s 194ms/step - loss: 0.0095 - acc: 1.0000 - val_loss: 2.3382 - val_acc: 0.7143\n",
            "Epoch 132/150\n",
            "2/2 [==============================] - 0s 184ms/step - loss: 0.0148 - acc: 0.9947 - val_loss: 2.3532 - val_acc: 0.7143\n",
            "Epoch 133/150\n",
            "2/2 [==============================] - 0s 189ms/step - loss: 0.0080 - acc: 1.0000 - val_loss: 2.4903 - val_acc: 0.7143\n",
            "Epoch 134/150\n",
            "2/2 [==============================] - 0s 190ms/step - loss: 0.0116 - acc: 1.0000 - val_loss: 2.8006 - val_acc: 0.6667\n",
            "Epoch 135/150\n",
            "2/2 [==============================] - 0s 186ms/step - loss: 0.0258 - acc: 0.9895 - val_loss: 2.8173 - val_acc: 0.6825\n",
            "Epoch 136/150\n",
            "2/2 [==============================] - 0s 186ms/step - loss: 0.0165 - acc: 0.9895 - val_loss: 2.8684 - val_acc: 0.6825\n",
            "Epoch 137/150\n",
            "2/2 [==============================] - 0s 186ms/step - loss: 0.0160 - acc: 0.9947 - val_loss: 2.8278 - val_acc: 0.6825\n",
            "Epoch 138/150\n",
            "2/2 [==============================] - 0s 187ms/step - loss: 0.0057 - acc: 1.0000 - val_loss: 2.8785 - val_acc: 0.6825\n",
            "Epoch 139/150\n",
            "2/2 [==============================] - 0s 197ms/step - loss: 0.0139 - acc: 1.0000 - val_loss: 2.9251 - val_acc: 0.6825\n",
            "Epoch 140/150\n",
            "2/2 [==============================] - 0s 190ms/step - loss: 0.0193 - acc: 0.9947 - val_loss: 2.7222 - val_acc: 0.6984\n",
            "Epoch 141/150\n",
            "2/2 [==============================] - 0s 187ms/step - loss: 0.0085 - acc: 0.9947 - val_loss: 2.2955 - val_acc: 0.7143\n",
            "Epoch 142/150\n",
            "2/2 [==============================] - 0s 186ms/step - loss: 0.0425 - acc: 0.9789 - val_loss: 2.9746 - val_acc: 0.6825\n",
            "Epoch 143/150\n",
            "2/2 [==============================] - 0s 192ms/step - loss: 0.0038 - acc: 1.0000 - val_loss: 4.2372 - val_acc: 0.4286\n",
            "Epoch 144/150\n",
            "2/2 [==============================] - 0s 185ms/step - loss: 0.0944 - acc: 0.9632 - val_loss: 3.1492 - val_acc: 0.6984\n",
            "Epoch 145/150\n",
            "2/2 [==============================] - 0s 185ms/step - loss: 0.0049 - acc: 1.0000 - val_loss: 2.6704 - val_acc: 0.7143\n",
            "Epoch 146/150\n",
            "2/2 [==============================] - 0s 186ms/step - loss: 0.0442 - acc: 0.9737 - val_loss: 3.0711 - val_acc: 0.6984\n",
            "Epoch 147/150\n",
            "2/2 [==============================] - 0s 186ms/step - loss: 0.0348 - acc: 0.9895 - val_loss: 2.9137 - val_acc: 0.7143\n",
            "Epoch 148/150\n",
            "2/2 [==============================] - 0s 192ms/step - loss: 0.0184 - acc: 0.9947 - val_loss: 2.6409 - val_acc: 0.6825\n",
            "Epoch 149/150\n",
            "2/2 [==============================] - 0s 190ms/step - loss: 0.0114 - acc: 0.9947 - val_loss: 2.4229 - val_acc: 0.6984\n",
            "Epoch 150/150\n",
            "2/2 [==============================] - 0s 193ms/step - loss: 0.0313 - acc: 0.9789 - val_loss: 2.8091 - val_acc: 0.6349\n"
          ],
          "name": "stdout"
        },
        {
          "output_type": "execute_result",
          "data": {
            "text/plain": [
              "<tensorflow.python.keras.callbacks.History at 0x7fad78ef0048>"
            ]
          },
          "metadata": {
            "tags": []
          },
          "execution_count": 33
        }
      ]
    },
    {
      "cell_type": "code",
      "metadata": {
        "trusted": true,
        "id": "zfH6PdjsHJ3B",
        "colab_type": "code",
        "colab": {}
      },
      "source": [
        ""
      ],
      "execution_count": 0,
      "outputs": []
    },
    {
      "cell_type": "code",
      "metadata": {
        "trusted": true,
        "id": "WaGS5LZEHJ3D",
        "colab_type": "code",
        "outputId": "0da5fb1a-40b3-43d4-a673-e99165615616",
        "colab": {
          "base_uri": "https://localhost:8080/",
          "height": 428
        }
      },
      "source": [
        "# Evaluate the model on test set\n",
        "score = model.evaluate(x_test, y_test, verbose=0)\n",
        "\n",
        "# Print test accuracy\n",
        "print('\\n', 'Test accuracy:', score[1])"
      ],
      "execution_count": 34,
      "outputs": [
        {
          "output_type": "error",
          "ename": "ValueError",
          "evalue": "ignored",
          "traceback": [
            "\u001b[0;31m---------------------------------------------------------------------------\u001b[0m",
            "\u001b[0;31mValueError\u001b[0m                                Traceback (most recent call last)",
            "\u001b[0;32m<ipython-input-34-ba2efc8317e3>\u001b[0m in \u001b[0;36m<module>\u001b[0;34m()\u001b[0m\n\u001b[0;32m----> 1\u001b[0;31m \u001b[0mscore\u001b[0m \u001b[0;34m=\u001b[0m \u001b[0mmodel\u001b[0m\u001b[0;34m.\u001b[0m\u001b[0mevaluate\u001b[0m\u001b[0;34m(\u001b[0m\u001b[0mx_test\u001b[0m\u001b[0;34m,\u001b[0m \u001b[0my_test\u001b[0m\u001b[0;34m,\u001b[0m \u001b[0mverbose\u001b[0m\u001b[0;34m=\u001b[0m\u001b[0;36m0\u001b[0m\u001b[0;34m)\u001b[0m\u001b[0;34m\u001b[0m\u001b[0;34m\u001b[0m\u001b[0m\n\u001b[0m\u001b[1;32m      2\u001b[0m \u001b[0;34m\u001b[0m\u001b[0m\n\u001b[1;32m      3\u001b[0m \u001b[0;31m# Print test accuracy\u001b[0m\u001b[0;34m\u001b[0m\u001b[0;34m\u001b[0m\u001b[0;34m\u001b[0m\u001b[0m\n\u001b[1;32m      4\u001b[0m \u001b[0mprint\u001b[0m\u001b[0;34m(\u001b[0m\u001b[0;34m'\\n'\u001b[0m\u001b[0;34m,\u001b[0m \u001b[0;34m'Test accuracy:'\u001b[0m\u001b[0;34m,\u001b[0m \u001b[0mscore\u001b[0m\u001b[0;34m[\u001b[0m\u001b[0;36m1\u001b[0m\u001b[0;34m]\u001b[0m\u001b[0;34m)\u001b[0m\u001b[0;34m\u001b[0m\u001b[0;34m\u001b[0m\u001b[0m\n",
            "\u001b[0;32m/usr/local/lib/python3.6/dist-packages/tensorflow/python/keras/engine/training.py\u001b[0m in \u001b[0;36m_method_wrapper\u001b[0;34m(self, *args, **kwargs)\u001b[0m\n\u001b[1;32m     63\u001b[0m   \u001b[0;32mdef\u001b[0m \u001b[0m_method_wrapper\u001b[0m\u001b[0;34m(\u001b[0m\u001b[0mself\u001b[0m\u001b[0;34m,\u001b[0m \u001b[0;34m*\u001b[0m\u001b[0margs\u001b[0m\u001b[0;34m,\u001b[0m \u001b[0;34m**\u001b[0m\u001b[0mkwargs\u001b[0m\u001b[0;34m)\u001b[0m\u001b[0;34m:\u001b[0m\u001b[0;34m\u001b[0m\u001b[0;34m\u001b[0m\u001b[0m\n\u001b[1;32m     64\u001b[0m     \u001b[0;32mif\u001b[0m \u001b[0;32mnot\u001b[0m \u001b[0mself\u001b[0m\u001b[0;34m.\u001b[0m\u001b[0m_in_multi_worker_mode\u001b[0m\u001b[0;34m(\u001b[0m\u001b[0;34m)\u001b[0m\u001b[0;34m:\u001b[0m  \u001b[0;31m# pylint: disable=protected-access\u001b[0m\u001b[0;34m\u001b[0m\u001b[0;34m\u001b[0m\u001b[0m\n\u001b[0;32m---> 65\u001b[0;31m       \u001b[0;32mreturn\u001b[0m \u001b[0mmethod\u001b[0m\u001b[0;34m(\u001b[0m\u001b[0mself\u001b[0m\u001b[0;34m,\u001b[0m \u001b[0;34m*\u001b[0m\u001b[0margs\u001b[0m\u001b[0;34m,\u001b[0m \u001b[0;34m**\u001b[0m\u001b[0mkwargs\u001b[0m\u001b[0;34m)\u001b[0m\u001b[0;34m\u001b[0m\u001b[0;34m\u001b[0m\u001b[0m\n\u001b[0m\u001b[1;32m     66\u001b[0m \u001b[0;34m\u001b[0m\u001b[0m\n\u001b[1;32m     67\u001b[0m     \u001b[0;31m# Running inside `run_distribute_coordinator` already.\u001b[0m\u001b[0;34m\u001b[0m\u001b[0;34m\u001b[0m\u001b[0;34m\u001b[0m\u001b[0m\n",
            "\u001b[0;32m/usr/local/lib/python3.6/dist-packages/tensorflow/python/keras/engine/training.py\u001b[0m in \u001b[0;36mevaluate\u001b[0;34m(self, x, y, batch_size, verbose, sample_weight, steps, callbacks, max_queue_size, workers, use_multiprocessing, return_dict)\u001b[0m\n\u001b[1;32m    990\u001b[0m           \u001b[0mworkers\u001b[0m\u001b[0;34m=\u001b[0m\u001b[0mworkers\u001b[0m\u001b[0;34m,\u001b[0m\u001b[0;34m\u001b[0m\u001b[0;34m\u001b[0m\u001b[0m\n\u001b[1;32m    991\u001b[0m           \u001b[0muse_multiprocessing\u001b[0m\u001b[0;34m=\u001b[0m\u001b[0muse_multiprocessing\u001b[0m\u001b[0;34m,\u001b[0m\u001b[0;34m\u001b[0m\u001b[0;34m\u001b[0m\u001b[0m\n\u001b[0;32m--> 992\u001b[0;31m           model=self)\n\u001b[0m\u001b[1;32m    993\u001b[0m \u001b[0;34m\u001b[0m\u001b[0m\n\u001b[1;32m    994\u001b[0m       \u001b[0;31m# Container that configures and calls `tf.keras.Callback`s.\u001b[0m\u001b[0;34m\u001b[0m\u001b[0;34m\u001b[0m\u001b[0;34m\u001b[0m\u001b[0m\n",
            "\u001b[0;32m/usr/local/lib/python3.6/dist-packages/tensorflow/python/keras/engine/data_adapter.py\u001b[0m in \u001b[0;36m__init__\u001b[0;34m(self, x, y, sample_weight, batch_size, steps_per_epoch, initial_epoch, epochs, shuffle, class_weight, max_queue_size, workers, use_multiprocessing, model)\u001b[0m\n\u001b[1;32m   1107\u001b[0m         \u001b[0muse_multiprocessing\u001b[0m\u001b[0;34m=\u001b[0m\u001b[0muse_multiprocessing\u001b[0m\u001b[0;34m,\u001b[0m\u001b[0;34m\u001b[0m\u001b[0;34m\u001b[0m\u001b[0m\n\u001b[1;32m   1108\u001b[0m         \u001b[0mdistribution_strategy\u001b[0m\u001b[0;34m=\u001b[0m\u001b[0mds_context\u001b[0m\u001b[0;34m.\u001b[0m\u001b[0mget_strategy\u001b[0m\u001b[0;34m(\u001b[0m\u001b[0;34m)\u001b[0m\u001b[0;34m,\u001b[0m\u001b[0;34m\u001b[0m\u001b[0;34m\u001b[0m\u001b[0m\n\u001b[0;32m-> 1109\u001b[0;31m         model=model)\n\u001b[0m\u001b[1;32m   1110\u001b[0m \u001b[0;34m\u001b[0m\u001b[0m\n\u001b[1;32m   1111\u001b[0m     \u001b[0mstrategy\u001b[0m \u001b[0;34m=\u001b[0m \u001b[0mds_context\u001b[0m\u001b[0;34m.\u001b[0m\u001b[0mget_strategy\u001b[0m\u001b[0;34m(\u001b[0m\u001b[0;34m)\u001b[0m\u001b[0;34m\u001b[0m\u001b[0;34m\u001b[0m\u001b[0m\n",
            "\u001b[0;32m/usr/local/lib/python3.6/dist-packages/tensorflow/python/keras/engine/data_adapter.py\u001b[0m in \u001b[0;36m__init__\u001b[0;34m(self, x, y, sample_weights, sample_weight_modes, batch_size, epochs, steps, shuffle, **kwargs)\u001b[0m\n\u001b[1;32m    280\u001b[0m             label, \", \".join(str(i.shape[0]) for i in nest.flatten(data)))\n\u001b[1;32m    281\u001b[0m       \u001b[0mmsg\u001b[0m \u001b[0;34m+=\u001b[0m \u001b[0;34m\"Please provide data which shares the same first dimension.\"\u001b[0m\u001b[0;34m\u001b[0m\u001b[0;34m\u001b[0m\u001b[0m\n\u001b[0;32m--> 282\u001b[0;31m       \u001b[0;32mraise\u001b[0m \u001b[0mValueError\u001b[0m\u001b[0;34m(\u001b[0m\u001b[0mmsg\u001b[0m\u001b[0;34m)\u001b[0m\u001b[0;34m\u001b[0m\u001b[0;34m\u001b[0m\u001b[0m\n\u001b[0m\u001b[1;32m    283\u001b[0m     \u001b[0mnum_samples\u001b[0m \u001b[0;34m=\u001b[0m \u001b[0mnum_samples\u001b[0m\u001b[0;34m.\u001b[0m\u001b[0mpop\u001b[0m\u001b[0;34m(\u001b[0m\u001b[0;34m)\u001b[0m\u001b[0;34m\u001b[0m\u001b[0;34m\u001b[0m\u001b[0m\n\u001b[1;32m    284\u001b[0m \u001b[0;34m\u001b[0m\u001b[0m\n",
            "\u001b[0;31mValueError\u001b[0m: Data cardinality is ambiguous:\n  x sizes: 161\n  y sizes: 63\nPlease provide data which shares the same first dimension."
          ]
        }
      ]
    },
    {
      "cell_type": "code",
      "metadata": {
        "trusted": true,
        "id": "vis-CTPhHJ3F",
        "colab_type": "code",
        "colab": {}
      },
      "source": [
        "labels =[\"Yes\",  # index 0\n",
        "        \"No\",      # index 1\n",
        "        ]"
      ],
      "execution_count": 0,
      "outputs": []
    },
    {
      "cell_type": "code",
      "metadata": {
        "trusted": true,
        "id": "hXijx5sRHJ3I",
        "colab_type": "code",
        "outputId": "aabeb72b-96cf-4a70-b84d-5be29007186e",
        "colab": {
          "base_uri": "https://localhost:8080/",
          "height": 485
        }
      },
      "source": [
        "y_hat = model.predict(x_test)\n",
        "\n",
        "# Plot a random sample of 10 test images, their predicted labels and ground truth\n",
        "figure = plt.figure(figsize=(20, 8))\n",
        "for i, index in enumerate(np.random.choice(x_test.shape[0], size=15, replace=False)):\n",
        "    ax = figure.add_subplot(3, 5, i + 1, xticks=[], yticks=[])\n",
        "    # Display each image\n",
        "    ax.imshow(np.squeeze(x_test[index]))\n",
        "    predict_index = np.argmax(y_hat[index])\n",
        "    true_index = np.argmax(y_test[index])\n",
        "    # Set the title for each image\n",
        "    ax.set_title(\"{} ({})\".format(labels[predict_index], \n",
        "                                  labels[true_index]),\n",
        "                                  color=(\"green\" if predict_index == true_index else \"red\"))\n",
        "plt.show()"
      ],
      "execution_count": 0,
      "outputs": [
        {
          "output_type": "display_data",
          "data": {
            "image/png": "[encoded data removed]",
            "text/plain": [
              "<Figure size 1440x576 with 15 Axes>"
            ]
          },
          "metadata": {
            "tags": []
          }
        }
      ]
    },
    {
      "cell_type": "code",
      "metadata": {
        "trusted": true,
        "id": "dooRWQlkHJ3K",
        "colab_type": "code",
        "colab": {}
      },
      "source": [
        ""
      ],
      "execution_count": 0,
      "outputs": []
    }
  ]
}